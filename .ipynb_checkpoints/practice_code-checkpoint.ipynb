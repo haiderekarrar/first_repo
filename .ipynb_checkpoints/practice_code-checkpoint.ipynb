{
 "cells": [
  {
   "cell_type": "code",
   "execution_count": 2,
   "id": "552262db-29c6-4686-aa5a-482159bc2893",
   "metadata": {},
   "outputs": [
    {
     "name": "stdout",
     "output_type": "stream",
     "text": [
      "15.205295600000001\n"
     ]
    }
   ],
   "source": [
    "pi = 3.14159\n",
    "radius = 2.2\n",
    "# area of circle equation \n",
    "area = pi*(radius**2)\n",
    "print(area)"
   ]
  },
  {
   "cell_type": "code",
   "execution_count": 3,
   "id": "12fe3d85-4e38-43ac-bf8c-4d66bf26be02",
   "metadata": {},
   "outputs": [
    {
     "name": "stdout",
     "output_type": "stream",
     "text": [
      "15.205295600000001\n",
      "32.169881600000004\n"
     ]
    }
   ],
   "source": [
    "# Adding 1 to the value of the radius\n",
    "radius = radius + 1\n",
    "print(area)     # This command prints the value for area\n",
    "area = pi*(radius**2) #This changes the value of the area \n",
    "print(area)"
   ]
  },
  {
   "cell_type": "code",
   "execution_count": 9,
   "id": "2b249455-bcf7-4841-b81d-d958f08e236a",
   "metadata": {},
   "outputs": [],
   "source": [
    "#############################\n",
    "#### COMMENTING LINES #######\n",
    "#############################\n",
    "# Put a hashtag before the line in order to make it a comment.\n",
    "\n",
    "#area = pi*(radius**2)\n",
    "#print(area)\n",
    "#radius = radius + 1\n",
    "#area = pi*(radius**2)\n",
    "#print(area)"
   ]
  },
  {
   "cell_type": "code",
   "execution_count": 12,
   "id": "9d955351-cd72-4e32-9347-c46972918184",
   "metadata": {},
   "outputs": [],
   "source": [
    "#############################\n",
    "#### AUTOCOMPLETE #######\n",
    "#############################\n",
    "# Jupyter Notebook can autocomplete names for you\n",
    "# start typing a variable name defined in your program and hit tab, then hit Enter. \n",
    "# before you finish typing -- try it below\n",
    "\n",
    "# define a variable\n",
    "a_very_long_variable_name_dont_name_them_this_long_pls = 0\n",
    "\n",
    "# below, start typing a_ve then hit tab. The variable name will appear. To select this variable, press Enter.\n",
    "# use autocomplete to change the value of that variable to 1\n",
    "\n",
    "# use autocomplete to write a line that prints the value of that long variable\n",
    "# note: You will have to manually add the closing paranthesis in Jupyter!"
   ]
  },
  {
   "cell_type": "code",
   "execution_count": null,
   "id": "23809046-4121-4a5b-8c7d-4779dc7baf56",
   "metadata": {},
   "outputs": [],
   "source": []
  }
 ],
 "metadata": {
  "kernelspec": {
   "display_name": "Python [conda env:base] *",
   "language": "python",
   "name": "conda-base-py"
  },
  "language_info": {
   "codemirror_mode": {
    "name": "ipython",
    "version": 3
   },
   "file_extension": ".py",
   "mimetype": "text/x-python",
   "name": "python",
   "nbconvert_exporter": "python",
   "pygments_lexer": "ipython3",
   "version": "3.12.4"
  }
 },
 "nbformat": 4,
 "nbformat_minor": 5
}
