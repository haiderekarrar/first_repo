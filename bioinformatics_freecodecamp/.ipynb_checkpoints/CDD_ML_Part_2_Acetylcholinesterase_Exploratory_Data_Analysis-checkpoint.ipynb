{
 "cells": [
  {
   "cell_type": "markdown",
   "metadata": {
    "colab_type": "text",
    "id": "l0Y7_lgN4jzM"
   },
   "source": [
    "# **Bioinformatics Project - Computational Drug Discovery [Part 2] Exploratory Data Analysis**\n",
    "\n",
    "Chanin Nantasenamat\n",
    "\n",
    "[*'Data Professor' YouTube channel*](http://youtube.com/dataprofessor)\n",
    "\n",
    "In this Jupyter notebook, we will be building a real-life **data science project** that you can include in your **data science portfolio**. Particularly, we will be building a machine learning model using the ChEMBL bioactivity data.\n",
    "\n",
    "In **Part 2**, we will be performing Descriptor Calculation and Exploratory Data Analysis.\n",
    "\n",
    "---"
   ]
  },
  {
   "cell_type": "markdown",
   "metadata": {
    "colab_type": "text",
    "id": "o-4IOizard4P"
   },
   "source": [
    "## **Install conda and rdkit**"
   ]
  },
  {
   "cell_type": "code",
   "execution_count": 2,
   "metadata": {
    "colab": {
     "base_uri": "https://localhost:8080/",
     "height": 1000
    },
    "colab_type": "code",
    "id": "H0mjQ2PcrSe5",
    "outputId": "10fb9322-6afb-4873-8c41-0e6bfbe9d0b2"
   },
   "outputs": [
    {
     "name": "stdout",
     "output_type": "stream",
     "text": [
      "Channels:\n",
      " - rdkit\n",
      " - defaults\n",
      " - conda-forge\n",
      "Platform: osx-arm64\n",
      "Collecting package metadata (repodata.json): done\n",
      "Solving environment: done\n",
      "\n",
      "# All requested packages already installed.\n",
      "\n"
     ]
    }
   ],
   "source": [
    "#! wget https://repo.anaconda.com/miniconda/Miniconda3-py37_4.8.2-Linux-x86_64.sh\n",
    "#! chmod +x Miniconda3-py37_4.8.2-Linux-x86_64.sh\n",
    "# bash ./Miniconda3-py37_4.8.2-Linux-x86_64.sh -b -f -p /usr/local\n",
    "! conda install -c rdkit rdkit -y\n",
    "import sys\n",
    "sys.path.append('/usr/local/lib/python3.7/site-packages/')"
   ]
  },
  {
   "cell_type": "markdown",
   "metadata": {
    "colab_type": "text",
    "id": "QmxXXFa4wTNG"
   },
   "source": [
    "## **Load bioactivity data**"
   ]
  },
  {
   "cell_type": "code",
   "execution_count": 3,
   "metadata": {
    "colab": {
     "base_uri": "https://localhost:8080/",
     "height": 204
    },
    "colab_type": "code",
    "id": "4jXqIPHbaq-b",
    "outputId": "b48d881a-2603-4592-f8c6-f9d910122121"
   },
   "outputs": [
    {
     "name": "stdout",
     "output_type": "stream",
     "text": [
      "--2025-10-22 13:33:16--  https://raw.githubusercontent.com/dataprofessor/data/master/acetylcholinesterase_03_bioactivity_data_curated.csv\n",
      "Resolving raw.githubusercontent.com (raw.githubusercontent.com)... 185.199.111.133, 185.199.109.133, 185.199.110.133, ...\n",
      "Connecting to raw.githubusercontent.com (raw.githubusercontent.com)|185.199.111.133|:443... connected.\n",
      "HTTP request sent, awaiting response... 200 OK\n",
      "Length: 385924 (377K) [text/plain]\n",
      "Saving to: ‘acetylcholinesterase_03_bioactivity_data_curated.csv.2’\n",
      "\n",
      "acetylcholinesteras 100%[===================>] 376.88K  --.-KB/s    in 0.03s   \n",
      "\n",
      "2025-10-22 13:33:16 (11.0 MB/s) - ‘acetylcholinesterase_03_bioactivity_data_curated.csv.2’ saved [385924/385924]\n",
      "\n"
     ]
    }
   ],
   "source": [
    "! wget https://raw.githubusercontent.com/dataprofessor/data/master/acetylcholinesterase_03_bioactivity_data_curated.csv"
   ]
  },
  {
   "cell_type": "code",
   "execution_count": 4,
   "metadata": {
    "colab": {},
    "colab_type": "code",
    "id": "Fpu5C7HlwV9s"
   },
   "outputs": [],
   "source": [
    "import pandas as pd"
   ]
  },
  {
   "cell_type": "code",
   "execution_count": 5,
   "metadata": {
    "colab": {
     "base_uri": "https://localhost:8080/",
     "height": 419
    },
    "colab_type": "code",
    "id": "GCcE8J5XwjtB",
    "outputId": "40a10f00-3d5f-4835-fdf8-2cb5acd8683c"
   },
   "outputs": [
    {
     "data": {
      "text/html": [
       "<div>\n",
       "<style scoped>\n",
       "    .dataframe tbody tr th:only-of-type {\n",
       "        vertical-align: middle;\n",
       "    }\n",
       "\n",
       "    .dataframe tbody tr th {\n",
       "        vertical-align: top;\n",
       "    }\n",
       "\n",
       "    .dataframe thead th {\n",
       "        text-align: right;\n",
       "    }\n",
       "</style>\n",
       "<table border=\"1\" class=\"dataframe\">\n",
       "  <thead>\n",
       "    <tr style=\"text-align: right;\">\n",
       "      <th></th>\n",
       "      <th>molecule_chembl_id</th>\n",
       "      <th>canonical_smiles</th>\n",
       "      <th>standard_value</th>\n",
       "      <th>class</th>\n",
       "    </tr>\n",
       "  </thead>\n",
       "  <tbody>\n",
       "    <tr>\n",
       "      <th>0</th>\n",
       "      <td>CHEMBL463210</td>\n",
       "      <td>CCOP(=S)(OCC)Oc1nc(Cl)c(Cl)cc1Cl</td>\n",
       "      <td>1830.0</td>\n",
       "      <td>intermediate</td>\n",
       "    </tr>\n",
       "    <tr>\n",
       "      <th>1</th>\n",
       "      <td>CHEMBL2252723</td>\n",
       "      <td>CCOP(=O)(OCC)SCCCCCCCCCCN1C(=O)c2ccccc2C1=O</td>\n",
       "      <td>112720.0</td>\n",
       "      <td>inactive</td>\n",
       "    </tr>\n",
       "    <tr>\n",
       "      <th>2</th>\n",
       "      <td>CHEMBL2252722</td>\n",
       "      <td>CCOP(=O)(OCC)SCCCCCCCCCN1C(=O)c2ccccc2C1=O</td>\n",
       "      <td>37500.0</td>\n",
       "      <td>inactive</td>\n",
       "    </tr>\n",
       "    <tr>\n",
       "      <th>3</th>\n",
       "      <td>CHEMBL2252721</td>\n",
       "      <td>CCOP(=O)(OCC)SCCCCCCCCN1C(=O)c2ccccc2C1=O</td>\n",
       "      <td>4500.0</td>\n",
       "      <td>intermediate</td>\n",
       "    </tr>\n",
       "    <tr>\n",
       "      <th>4</th>\n",
       "      <td>CHEMBL2252851</td>\n",
       "      <td>CCOP(=O)(OCC)SCCCCCCCN1C(=O)c2ccccc2C1=O</td>\n",
       "      <td>1840.0</td>\n",
       "      <td>intermediate</td>\n",
       "    </tr>\n",
       "    <tr>\n",
       "      <th>5</th>\n",
       "      <td>CHEMBL2252850</td>\n",
       "      <td>CCOP(=O)(OCC)SCCCCCCN1C(=O)c2ccccc2C1=O</td>\n",
       "      <td>3810.0</td>\n",
       "      <td>intermediate</td>\n",
       "    </tr>\n",
       "    <tr>\n",
       "      <th>6</th>\n",
       "      <td>CHEMBL2252849</td>\n",
       "      <td>CCOP(=O)(OCC)SCCCCCN1C(=O)c2ccccc2C1=O</td>\n",
       "      <td>12340.0</td>\n",
       "      <td>inactive</td>\n",
       "    </tr>\n",
       "    <tr>\n",
       "      <th>7</th>\n",
       "      <td>CHEMBL2252848</td>\n",
       "      <td>CCOP(=O)(OCC)SCCCCN1C(=O)c2ccccc2C1=O</td>\n",
       "      <td>9920.0</td>\n",
       "      <td>intermediate</td>\n",
       "    </tr>\n",
       "    <tr>\n",
       "      <th>8</th>\n",
       "      <td>CHEMBL2252847</td>\n",
       "      <td>CCOP(=O)(OCC)SCCCN1C(=O)c2ccccc2C1=O</td>\n",
       "      <td>8290.0</td>\n",
       "      <td>intermediate</td>\n",
       "    </tr>\n",
       "    <tr>\n",
       "      <th>9</th>\n",
       "      <td>CHEMBL2252846</td>\n",
       "      <td>CCOP(=O)(OCC)SCCCCCCCCCCSP(=O)(OCC)OCC</td>\n",
       "      <td>1760.0</td>\n",
       "      <td>intermediate</td>\n",
       "    </tr>\n",
       "    <tr>\n",
       "      <th>10</th>\n",
       "      <td>CHEMBL2252845</td>\n",
       "      <td>CCOP(=O)(OCC)SCCCCCCCCCSP(=O)(OCC)OCC</td>\n",
       "      <td>1430.0</td>\n",
       "      <td>intermediate</td>\n",
       "    </tr>\n",
       "    <tr>\n",
       "      <th>11</th>\n",
       "      <td>CHEMBL2252844</td>\n",
       "      <td>CCOP(=O)(OCC)SCCCCCCCCSP(=O)(OCC)OCC</td>\n",
       "      <td>4840.0</td>\n",
       "      <td>intermediate</td>\n",
       "    </tr>\n",
       "    <tr>\n",
       "      <th>12</th>\n",
       "      <td>CHEMBL2252843</td>\n",
       "      <td>CCOP(=O)(OCC)SCCCCCCCSP(=O)(OCC)OCC</td>\n",
       "      <td>10200.0</td>\n",
       "      <td>inactive</td>\n",
       "    </tr>\n",
       "    <tr>\n",
       "      <th>13</th>\n",
       "      <td>CHEMBL2252842</td>\n",
       "      <td>CCOP(=O)(OCC)SCCCCCCSP(=O)(OCC)OCC</td>\n",
       "      <td>870.0</td>\n",
       "      <td>active</td>\n",
       "    </tr>\n",
       "    <tr>\n",
       "      <th>14</th>\n",
       "      <td>CHEMBL2252841</td>\n",
       "      <td>CCOP(=O)(OCC)SCCCCCSP(=O)(OCC)OCC</td>\n",
       "      <td>12340.0</td>\n",
       "      <td>inactive</td>\n",
       "    </tr>\n",
       "    <tr>\n",
       "      <th>15</th>\n",
       "      <td>CHEMBL2252840</td>\n",
       "      <td>CCOP(=O)(OCC)SCCCCSP(=O)(OCC)OCC</td>\n",
       "      <td>8070.0</td>\n",
       "      <td>intermediate</td>\n",
       "    </tr>\n",
       "    <tr>\n",
       "      <th>16</th>\n",
       "      <td>CHEMBL2252724</td>\n",
       "      <td>CCOP(=O)(OCC)SCCCSP(=O)(OCC)OCC</td>\n",
       "      <td>1640.0</td>\n",
       "      <td>intermediate</td>\n",
       "    </tr>\n",
       "    <tr>\n",
       "      <th>17</th>\n",
       "      <td>CHEMBL1232328</td>\n",
       "      <td>CCOP(O)(=S)OCC</td>\n",
       "      <td>40000000.0</td>\n",
       "      <td>inactive</td>\n",
       "    </tr>\n",
       "  </tbody>\n",
       "</table>\n",
       "</div>"
      ],
      "text/plain": [
       "   molecule_chembl_id                             canonical_smiles  \\\n",
       "0        CHEMBL463210             CCOP(=S)(OCC)Oc1nc(Cl)c(Cl)cc1Cl   \n",
       "1       CHEMBL2252723  CCOP(=O)(OCC)SCCCCCCCCCCN1C(=O)c2ccccc2C1=O   \n",
       "2       CHEMBL2252722   CCOP(=O)(OCC)SCCCCCCCCCN1C(=O)c2ccccc2C1=O   \n",
       "3       CHEMBL2252721    CCOP(=O)(OCC)SCCCCCCCCN1C(=O)c2ccccc2C1=O   \n",
       "4       CHEMBL2252851     CCOP(=O)(OCC)SCCCCCCCN1C(=O)c2ccccc2C1=O   \n",
       "5       CHEMBL2252850      CCOP(=O)(OCC)SCCCCCCN1C(=O)c2ccccc2C1=O   \n",
       "6       CHEMBL2252849       CCOP(=O)(OCC)SCCCCCN1C(=O)c2ccccc2C1=O   \n",
       "7       CHEMBL2252848        CCOP(=O)(OCC)SCCCCN1C(=O)c2ccccc2C1=O   \n",
       "8       CHEMBL2252847         CCOP(=O)(OCC)SCCCN1C(=O)c2ccccc2C1=O   \n",
       "9       CHEMBL2252846       CCOP(=O)(OCC)SCCCCCCCCCCSP(=O)(OCC)OCC   \n",
       "10      CHEMBL2252845        CCOP(=O)(OCC)SCCCCCCCCCSP(=O)(OCC)OCC   \n",
       "11      CHEMBL2252844         CCOP(=O)(OCC)SCCCCCCCCSP(=O)(OCC)OCC   \n",
       "12      CHEMBL2252843          CCOP(=O)(OCC)SCCCCCCCSP(=O)(OCC)OCC   \n",
       "13      CHEMBL2252842           CCOP(=O)(OCC)SCCCCCCSP(=O)(OCC)OCC   \n",
       "14      CHEMBL2252841            CCOP(=O)(OCC)SCCCCCSP(=O)(OCC)OCC   \n",
       "15      CHEMBL2252840             CCOP(=O)(OCC)SCCCCSP(=O)(OCC)OCC   \n",
       "16      CHEMBL2252724              CCOP(=O)(OCC)SCCCSP(=O)(OCC)OCC   \n",
       "17      CHEMBL1232328                               CCOP(O)(=S)OCC   \n",
       "\n",
       "    standard_value         class  \n",
       "0           1830.0  intermediate  \n",
       "1         112720.0      inactive  \n",
       "2          37500.0      inactive  \n",
       "3           4500.0  intermediate  \n",
       "4           1840.0  intermediate  \n",
       "5           3810.0  intermediate  \n",
       "6          12340.0      inactive  \n",
       "7           9920.0  intermediate  \n",
       "8           8290.0  intermediate  \n",
       "9           1760.0  intermediate  \n",
       "10          1430.0  intermediate  \n",
       "11          4840.0  intermediate  \n",
       "12         10200.0      inactive  \n",
       "13           870.0        active  \n",
       "14         12340.0      inactive  \n",
       "15          8070.0  intermediate  \n",
       "16          1640.0  intermediate  \n",
       "17      40000000.0      inactive  "
      ]
     },
     "execution_count": 5,
     "metadata": {},
     "output_type": "execute_result"
    }
   ],
   "source": [
    "df = pd.read_csv('acetylcholinesterase_03_bioactivity_data_curated.csv')\n",
    "df"
   ]
  },
  {
   "cell_type": "code",
   "execution_count": 6,
   "metadata": {
    "colab": {},
    "colab_type": "code",
    "id": "7AMm19NW0bJR"
   },
   "outputs": [],
   "source": [
    "df_no_smiles = df.drop(columns='canonical_smiles')"
   ]
  },
  {
   "cell_type": "code",
   "execution_count": 7,
   "metadata": {
    "colab": {},
    "colab_type": "code",
    "id": "aymiQsfdr5sY"
   },
   "outputs": [],
   "source": [
    "smiles = []\n",
    "\n",
    "for i in df.canonical_smiles.tolist():\n",
    "  cpd = str(i).split('.')\n",
    "  cpd_longest = max(cpd, key = len)\n",
    "  smiles.append(cpd_longest)\n",
    "\n",
    "smiles = pd.Series(smiles, name = 'canonical_smiles')"
   ]
  },
  {
   "cell_type": "code",
   "execution_count": 8,
   "metadata": {
    "colab": {
     "base_uri": "https://localhost:8080/",
     "height": 419
    },
    "colab_type": "code",
    "id": "l7a8qW_U85ZK",
    "outputId": "9e073a51-20d4-489c-b1f7-6a44d140c22b"
   },
   "outputs": [
    {
     "data": {
      "text/html": [
       "<div>\n",
       "<style scoped>\n",
       "    .dataframe tbody tr th:only-of-type {\n",
       "        vertical-align: middle;\n",
       "    }\n",
       "\n",
       "    .dataframe tbody tr th {\n",
       "        vertical-align: top;\n",
       "    }\n",
       "\n",
       "    .dataframe thead th {\n",
       "        text-align: right;\n",
       "    }\n",
       "</style>\n",
       "<table border=\"1\" class=\"dataframe\">\n",
       "  <thead>\n",
       "    <tr style=\"text-align: right;\">\n",
       "      <th></th>\n",
       "      <th>molecule_chembl_id</th>\n",
       "      <th>standard_value</th>\n",
       "      <th>class</th>\n",
       "      <th>canonical_smiles</th>\n",
       "    </tr>\n",
       "  </thead>\n",
       "  <tbody>\n",
       "    <tr>\n",
       "      <th>0</th>\n",
       "      <td>CHEMBL463210</td>\n",
       "      <td>1830.0</td>\n",
       "      <td>intermediate</td>\n",
       "      <td>CCOP(=S)(OCC)Oc1nc(Cl)c(Cl)cc1Cl</td>\n",
       "    </tr>\n",
       "    <tr>\n",
       "      <th>1</th>\n",
       "      <td>CHEMBL2252723</td>\n",
       "      <td>112720.0</td>\n",
       "      <td>inactive</td>\n",
       "      <td>CCOP(=O)(OCC)SCCCCCCCCCCN1C(=O)c2ccccc2C1=O</td>\n",
       "    </tr>\n",
       "    <tr>\n",
       "      <th>2</th>\n",
       "      <td>CHEMBL2252722</td>\n",
       "      <td>37500.0</td>\n",
       "      <td>inactive</td>\n",
       "      <td>CCOP(=O)(OCC)SCCCCCCCCCN1C(=O)c2ccccc2C1=O</td>\n",
       "    </tr>\n",
       "    <tr>\n",
       "      <th>3</th>\n",
       "      <td>CHEMBL2252721</td>\n",
       "      <td>4500.0</td>\n",
       "      <td>intermediate</td>\n",
       "      <td>CCOP(=O)(OCC)SCCCCCCCCN1C(=O)c2ccccc2C1=O</td>\n",
       "    </tr>\n",
       "    <tr>\n",
       "      <th>4</th>\n",
       "      <td>CHEMBL2252851</td>\n",
       "      <td>1840.0</td>\n",
       "      <td>intermediate</td>\n",
       "      <td>CCOP(=O)(OCC)SCCCCCCCN1C(=O)c2ccccc2C1=O</td>\n",
       "    </tr>\n",
       "    <tr>\n",
       "      <th>5</th>\n",
       "      <td>CHEMBL2252850</td>\n",
       "      <td>3810.0</td>\n",
       "      <td>intermediate</td>\n",
       "      <td>CCOP(=O)(OCC)SCCCCCCN1C(=O)c2ccccc2C1=O</td>\n",
       "    </tr>\n",
       "    <tr>\n",
       "      <th>6</th>\n",
       "      <td>CHEMBL2252849</td>\n",
       "      <td>12340.0</td>\n",
       "      <td>inactive</td>\n",
       "      <td>CCOP(=O)(OCC)SCCCCCN1C(=O)c2ccccc2C1=O</td>\n",
       "    </tr>\n",
       "    <tr>\n",
       "      <th>7</th>\n",
       "      <td>CHEMBL2252848</td>\n",
       "      <td>9920.0</td>\n",
       "      <td>intermediate</td>\n",
       "      <td>CCOP(=O)(OCC)SCCCCN1C(=O)c2ccccc2C1=O</td>\n",
       "    </tr>\n",
       "    <tr>\n",
       "      <th>8</th>\n",
       "      <td>CHEMBL2252847</td>\n",
       "      <td>8290.0</td>\n",
       "      <td>intermediate</td>\n",
       "      <td>CCOP(=O)(OCC)SCCCN1C(=O)c2ccccc2C1=O</td>\n",
       "    </tr>\n",
       "    <tr>\n",
       "      <th>9</th>\n",
       "      <td>CHEMBL2252846</td>\n",
       "      <td>1760.0</td>\n",
       "      <td>intermediate</td>\n",
       "      <td>CCOP(=O)(OCC)SCCCCCCCCCCSP(=O)(OCC)OCC</td>\n",
       "    </tr>\n",
       "    <tr>\n",
       "      <th>10</th>\n",
       "      <td>CHEMBL2252845</td>\n",
       "      <td>1430.0</td>\n",
       "      <td>intermediate</td>\n",
       "      <td>CCOP(=O)(OCC)SCCCCCCCCCSP(=O)(OCC)OCC</td>\n",
       "    </tr>\n",
       "    <tr>\n",
       "      <th>11</th>\n",
       "      <td>CHEMBL2252844</td>\n",
       "      <td>4840.0</td>\n",
       "      <td>intermediate</td>\n",
       "      <td>CCOP(=O)(OCC)SCCCCCCCCSP(=O)(OCC)OCC</td>\n",
       "    </tr>\n",
       "    <tr>\n",
       "      <th>12</th>\n",
       "      <td>CHEMBL2252843</td>\n",
       "      <td>10200.0</td>\n",
       "      <td>inactive</td>\n",
       "      <td>CCOP(=O)(OCC)SCCCCCCCSP(=O)(OCC)OCC</td>\n",
       "    </tr>\n",
       "    <tr>\n",
       "      <th>13</th>\n",
       "      <td>CHEMBL2252842</td>\n",
       "      <td>870.0</td>\n",
       "      <td>active</td>\n",
       "      <td>CCOP(=O)(OCC)SCCCCCCSP(=O)(OCC)OCC</td>\n",
       "    </tr>\n",
       "    <tr>\n",
       "      <th>14</th>\n",
       "      <td>CHEMBL2252841</td>\n",
       "      <td>12340.0</td>\n",
       "      <td>inactive</td>\n",
       "      <td>CCOP(=O)(OCC)SCCCCCSP(=O)(OCC)OCC</td>\n",
       "    </tr>\n",
       "    <tr>\n",
       "      <th>15</th>\n",
       "      <td>CHEMBL2252840</td>\n",
       "      <td>8070.0</td>\n",
       "      <td>intermediate</td>\n",
       "      <td>CCOP(=O)(OCC)SCCCCSP(=O)(OCC)OCC</td>\n",
       "    </tr>\n",
       "    <tr>\n",
       "      <th>16</th>\n",
       "      <td>CHEMBL2252724</td>\n",
       "      <td>1640.0</td>\n",
       "      <td>intermediate</td>\n",
       "      <td>CCOP(=O)(OCC)SCCCSP(=O)(OCC)OCC</td>\n",
       "    </tr>\n",
       "    <tr>\n",
       "      <th>17</th>\n",
       "      <td>CHEMBL1232328</td>\n",
       "      <td>40000000.0</td>\n",
       "      <td>inactive</td>\n",
       "      <td>CCOP(O)(=S)OCC</td>\n",
       "    </tr>\n",
       "  </tbody>\n",
       "</table>\n",
       "</div>"
      ],
      "text/plain": [
       "   molecule_chembl_id  standard_value         class  \\\n",
       "0        CHEMBL463210          1830.0  intermediate   \n",
       "1       CHEMBL2252723        112720.0      inactive   \n",
       "2       CHEMBL2252722         37500.0      inactive   \n",
       "3       CHEMBL2252721          4500.0  intermediate   \n",
       "4       CHEMBL2252851          1840.0  intermediate   \n",
       "5       CHEMBL2252850          3810.0  intermediate   \n",
       "6       CHEMBL2252849         12340.0      inactive   \n",
       "7       CHEMBL2252848          9920.0  intermediate   \n",
       "8       CHEMBL2252847          8290.0  intermediate   \n",
       "9       CHEMBL2252846          1760.0  intermediate   \n",
       "10      CHEMBL2252845          1430.0  intermediate   \n",
       "11      CHEMBL2252844          4840.0  intermediate   \n",
       "12      CHEMBL2252843         10200.0      inactive   \n",
       "13      CHEMBL2252842           870.0        active   \n",
       "14      CHEMBL2252841         12340.0      inactive   \n",
       "15      CHEMBL2252840          8070.0  intermediate   \n",
       "16      CHEMBL2252724          1640.0  intermediate   \n",
       "17      CHEMBL1232328      40000000.0      inactive   \n",
       "\n",
       "                               canonical_smiles  \n",
       "0              CCOP(=S)(OCC)Oc1nc(Cl)c(Cl)cc1Cl  \n",
       "1   CCOP(=O)(OCC)SCCCCCCCCCCN1C(=O)c2ccccc2C1=O  \n",
       "2    CCOP(=O)(OCC)SCCCCCCCCCN1C(=O)c2ccccc2C1=O  \n",
       "3     CCOP(=O)(OCC)SCCCCCCCCN1C(=O)c2ccccc2C1=O  \n",
       "4      CCOP(=O)(OCC)SCCCCCCCN1C(=O)c2ccccc2C1=O  \n",
       "5       CCOP(=O)(OCC)SCCCCCCN1C(=O)c2ccccc2C1=O  \n",
       "6        CCOP(=O)(OCC)SCCCCCN1C(=O)c2ccccc2C1=O  \n",
       "7         CCOP(=O)(OCC)SCCCCN1C(=O)c2ccccc2C1=O  \n",
       "8          CCOP(=O)(OCC)SCCCN1C(=O)c2ccccc2C1=O  \n",
       "9        CCOP(=O)(OCC)SCCCCCCCCCCSP(=O)(OCC)OCC  \n",
       "10        CCOP(=O)(OCC)SCCCCCCCCCSP(=O)(OCC)OCC  \n",
       "11         CCOP(=O)(OCC)SCCCCCCCCSP(=O)(OCC)OCC  \n",
       "12          CCOP(=O)(OCC)SCCCCCCCSP(=O)(OCC)OCC  \n",
       "13           CCOP(=O)(OCC)SCCCCCCSP(=O)(OCC)OCC  \n",
       "14            CCOP(=O)(OCC)SCCCCCSP(=O)(OCC)OCC  \n",
       "15             CCOP(=O)(OCC)SCCCCSP(=O)(OCC)OCC  \n",
       "16              CCOP(=O)(OCC)SCCCSP(=O)(OCC)OCC  \n",
       "17                               CCOP(O)(=S)OCC  "
      ]
     },
     "execution_count": 8,
     "metadata": {},
     "output_type": "execute_result"
    }
   ],
   "source": [
    "df_clean_smiles = pd.concat([df_no_smiles,smiles], axis=1)\n",
    "df_clean_smiles"
   ]
  },
  {
   "cell_type": "markdown",
   "metadata": {
    "colab_type": "text",
    "id": "YzN_S4Quro5S"
   },
   "source": [
    "## **Calculate Lipinski descriptors**\n",
    "Christopher Lipinski, a scientist at Pfizer, came up with a set of rule-of-thumb for evaluating the **druglikeness** of compounds. Such druglikeness is based on the Absorption, Distribution, Metabolism and Excretion (ADME) that is also known as the pharmacokinetic profile. Lipinski analyzed all orally active FDA-approved drugs in the formulation of what is to be known as the **Rule-of-Five** or **Lipinski's Rule**.\n",
    "\n",
    "The Lipinski's Rule stated the following:\n",
    "* Molecular weight < 500 Dalton\n",
    "* Octanol-water partition coefficient (LogP) < 5\n",
    "* Hydrogen bond donors < 5\n",
    "* Hydrogen bond acceptors < 10 "
   ]
  },
  {
   "cell_type": "markdown",
   "metadata": {
    "colab_type": "text",
    "id": "9qn_eQcnxY7C"
   },
   "source": [
    "### **Import libraries**"
   ]
  },
  {
   "cell_type": "code",
   "execution_count": 10,
   "metadata": {
    "colab": {},
    "colab_type": "code",
    "id": "CgBjIdT-rnRU"
   },
   "outputs": [],
   "source": [
    "import numpy as np\n",
    "from rdkit import Chem\n",
    "from rdkit.Chem import Descriptors, Lipinski"
   ]
  },
  {
   "cell_type": "markdown",
   "metadata": {
    "colab_type": "text",
    "id": "JsgTV-ByxdMa"
   },
   "source": [
    "### **Calculate descriptors**"
   ]
  },
  {
   "cell_type": "code",
   "execution_count": 11,
   "metadata": {
    "colab": {},
    "colab_type": "code",
    "id": "bCXEY7a9ugO_"
   },
   "outputs": [],
   "source": [
    "# Inspired by: https://codeocean.com/explore/capsules?query=tag:data-curation\n",
    "\n",
    "def lipinski(smiles, verbose=False):\n",
    "\n",
    "    moldata= []\n",
    "    for elem in smiles:\n",
    "        mol=Chem.MolFromSmiles(elem) \n",
    "        moldata.append(mol)\n",
    "       \n",
    "    baseData= np.arange(1,1)\n",
    "    i=0  \n",
    "    for mol in moldata:        \n",
    "       \n",
    "        desc_MolWt = Descriptors.MolWt(mol)\n",
    "        desc_MolLogP = Descriptors.MolLogP(mol)\n",
    "        desc_NumHDonors = Lipinski.NumHDonors(mol)\n",
    "        desc_NumHAcceptors = Lipinski.NumHAcceptors(mol)\n",
    "           \n",
    "        row = np.array([desc_MolWt,\n",
    "                        desc_MolLogP,\n",
    "                        desc_NumHDonors,\n",
    "                        desc_NumHAcceptors])   \n",
    "    \n",
    "        if(i==0):\n",
    "            baseData=row\n",
    "        else:\n",
    "            baseData=np.vstack([baseData, row])\n",
    "        i=i+1      \n",
    "    \n",
    "    columnNames=[\"MW\",\"LogP\",\"NumHDonors\",\"NumHAcceptors\"]   \n",
    "    descriptors = pd.DataFrame(data=baseData,columns=columnNames)\n",
    "    \n",
    "    return descriptors"
   ]
  },
  {
   "cell_type": "code",
   "execution_count": 12,
   "metadata": {
    "colab": {
     "base_uri": "https://localhost:8080/",
     "height": 419
    },
    "colab_type": "code",
    "id": "ThFIFw8IukMY",
    "outputId": "574c050c-44f1-43be-bf6c-bf973d8d0675"
   },
   "outputs": [
    {
     "data": {
      "text/html": [
       "<div>\n",
       "<style scoped>\n",
       "    .dataframe tbody tr th:only-of-type {\n",
       "        vertical-align: middle;\n",
       "    }\n",
       "\n",
       "    .dataframe tbody tr th {\n",
       "        vertical-align: top;\n",
       "    }\n",
       "\n",
       "    .dataframe thead th {\n",
       "        text-align: right;\n",
       "    }\n",
       "</style>\n",
       "<table border=\"1\" class=\"dataframe\">\n",
       "  <thead>\n",
       "    <tr style=\"text-align: right;\">\n",
       "      <th></th>\n",
       "      <th>MW</th>\n",
       "      <th>LogP</th>\n",
       "      <th>NumHDonors</th>\n",
       "      <th>NumHAcceptors</th>\n",
       "    </tr>\n",
       "  </thead>\n",
       "  <tbody>\n",
       "    <tr>\n",
       "      <th>0</th>\n",
       "      <td>350.591</td>\n",
       "      <td>4.7181</td>\n",
       "      <td>0.0</td>\n",
       "      <td>5.0</td>\n",
       "    </tr>\n",
       "    <tr>\n",
       "      <th>1</th>\n",
       "      <td>455.557</td>\n",
       "      <td>6.3177</td>\n",
       "      <td>0.0</td>\n",
       "      <td>6.0</td>\n",
       "    </tr>\n",
       "    <tr>\n",
       "      <th>2</th>\n",
       "      <td>441.530</td>\n",
       "      <td>5.9276</td>\n",
       "      <td>0.0</td>\n",
       "      <td>6.0</td>\n",
       "    </tr>\n",
       "    <tr>\n",
       "      <th>3</th>\n",
       "      <td>427.503</td>\n",
       "      <td>5.5375</td>\n",
       "      <td>0.0</td>\n",
       "      <td>6.0</td>\n",
       "    </tr>\n",
       "    <tr>\n",
       "      <th>4</th>\n",
       "      <td>413.476</td>\n",
       "      <td>5.1474</td>\n",
       "      <td>0.0</td>\n",
       "      <td>6.0</td>\n",
       "    </tr>\n",
       "    <tr>\n",
       "      <th>5</th>\n",
       "      <td>399.449</td>\n",
       "      <td>4.7573</td>\n",
       "      <td>0.0</td>\n",
       "      <td>6.0</td>\n",
       "    </tr>\n",
       "    <tr>\n",
       "      <th>6</th>\n",
       "      <td>385.422</td>\n",
       "      <td>4.3672</td>\n",
       "      <td>0.0</td>\n",
       "      <td>6.0</td>\n",
       "    </tr>\n",
       "    <tr>\n",
       "      <th>7</th>\n",
       "      <td>371.395</td>\n",
       "      <td>3.9771</td>\n",
       "      <td>0.0</td>\n",
       "      <td>6.0</td>\n",
       "    </tr>\n",
       "    <tr>\n",
       "      <th>8</th>\n",
       "      <td>357.368</td>\n",
       "      <td>3.5870</td>\n",
       "      <td>0.0</td>\n",
       "      <td>6.0</td>\n",
       "    </tr>\n",
       "    <tr>\n",
       "      <th>9</th>\n",
       "      <td>478.594</td>\n",
       "      <td>7.9358</td>\n",
       "      <td>0.0</td>\n",
       "      <td>8.0</td>\n",
       "    </tr>\n",
       "    <tr>\n",
       "      <th>10</th>\n",
       "      <td>464.567</td>\n",
       "      <td>7.5457</td>\n",
       "      <td>0.0</td>\n",
       "      <td>8.0</td>\n",
       "    </tr>\n",
       "    <tr>\n",
       "      <th>11</th>\n",
       "      <td>450.540</td>\n",
       "      <td>7.1556</td>\n",
       "      <td>0.0</td>\n",
       "      <td>8.0</td>\n",
       "    </tr>\n",
       "    <tr>\n",
       "      <th>12</th>\n",
       "      <td>436.513</td>\n",
       "      <td>6.7655</td>\n",
       "      <td>0.0</td>\n",
       "      <td>8.0</td>\n",
       "    </tr>\n",
       "    <tr>\n",
       "      <th>13</th>\n",
       "      <td>422.486</td>\n",
       "      <td>6.3754</td>\n",
       "      <td>0.0</td>\n",
       "      <td>8.0</td>\n",
       "    </tr>\n",
       "    <tr>\n",
       "      <th>14</th>\n",
       "      <td>408.459</td>\n",
       "      <td>5.9853</td>\n",
       "      <td>0.0</td>\n",
       "      <td>8.0</td>\n",
       "    </tr>\n",
       "    <tr>\n",
       "      <th>15</th>\n",
       "      <td>394.432</td>\n",
       "      <td>5.5952</td>\n",
       "      <td>0.0</td>\n",
       "      <td>8.0</td>\n",
       "    </tr>\n",
       "    <tr>\n",
       "      <th>16</th>\n",
       "      <td>380.405</td>\n",
       "      <td>5.2051</td>\n",
       "      <td>0.0</td>\n",
       "      <td>8.0</td>\n",
       "    </tr>\n",
       "    <tr>\n",
       "      <th>17</th>\n",
       "      <td>170.170</td>\n",
       "      <td>1.2762</td>\n",
       "      <td>1.0</td>\n",
       "      <td>3.0</td>\n",
       "    </tr>\n",
       "  </tbody>\n",
       "</table>\n",
       "</div>"
      ],
      "text/plain": [
       "         MW    LogP  NumHDonors  NumHAcceptors\n",
       "0   350.591  4.7181         0.0            5.0\n",
       "1   455.557  6.3177         0.0            6.0\n",
       "2   441.530  5.9276         0.0            6.0\n",
       "3   427.503  5.5375         0.0            6.0\n",
       "4   413.476  5.1474         0.0            6.0\n",
       "5   399.449  4.7573         0.0            6.0\n",
       "6   385.422  4.3672         0.0            6.0\n",
       "7   371.395  3.9771         0.0            6.0\n",
       "8   357.368  3.5870         0.0            6.0\n",
       "9   478.594  7.9358         0.0            8.0\n",
       "10  464.567  7.5457         0.0            8.0\n",
       "11  450.540  7.1556         0.0            8.0\n",
       "12  436.513  6.7655         0.0            8.0\n",
       "13  422.486  6.3754         0.0            8.0\n",
       "14  408.459  5.9853         0.0            8.0\n",
       "15  394.432  5.5952         0.0            8.0\n",
       "16  380.405  5.2051         0.0            8.0\n",
       "17  170.170  1.2762         1.0            3.0"
      ]
     },
     "execution_count": 12,
     "metadata": {},
     "output_type": "execute_result"
    }
   ],
   "source": [
    "df_lipinski = lipinski(df_clean_smiles.canonical_smiles)\n",
    "df_lipinski"
   ]
  },
  {
   "cell_type": "markdown",
   "metadata": {
    "colab_type": "text",
    "id": "gUMlPfFrxicj"
   },
   "source": [
    "### **Combine DataFrames**\n",
    "\n",
    "Let's take a look at the 2 DataFrames that will be combined."
   ]
  },
  {
   "cell_type": "code",
   "execution_count": 13,
   "metadata": {
    "colab": {
     "base_uri": "https://localhost:8080/",
     "height": 419
    },
    "colab_type": "code",
    "id": "DaezyM5vwp9n",
    "outputId": "14dfe606-85e1-43ca-aaec-feb5b59f5404"
   },
   "outputs": [
    {
     "data": {
      "text/html": [
       "<div>\n",
       "<style scoped>\n",
       "    .dataframe tbody tr th:only-of-type {\n",
       "        vertical-align: middle;\n",
       "    }\n",
       "\n",
       "    .dataframe tbody tr th {\n",
       "        vertical-align: top;\n",
       "    }\n",
       "\n",
       "    .dataframe thead th {\n",
       "        text-align: right;\n",
       "    }\n",
       "</style>\n",
       "<table border=\"1\" class=\"dataframe\">\n",
       "  <thead>\n",
       "    <tr style=\"text-align: right;\">\n",
       "      <th></th>\n",
       "      <th>MW</th>\n",
       "      <th>LogP</th>\n",
       "      <th>NumHDonors</th>\n",
       "      <th>NumHAcceptors</th>\n",
       "    </tr>\n",
       "  </thead>\n",
       "  <tbody>\n",
       "    <tr>\n",
       "      <th>0</th>\n",
       "      <td>350.591</td>\n",
       "      <td>4.7181</td>\n",
       "      <td>0.0</td>\n",
       "      <td>5.0</td>\n",
       "    </tr>\n",
       "    <tr>\n",
       "      <th>1</th>\n",
       "      <td>455.557</td>\n",
       "      <td>6.3177</td>\n",
       "      <td>0.0</td>\n",
       "      <td>6.0</td>\n",
       "    </tr>\n",
       "    <tr>\n",
       "      <th>2</th>\n",
       "      <td>441.530</td>\n",
       "      <td>5.9276</td>\n",
       "      <td>0.0</td>\n",
       "      <td>6.0</td>\n",
       "    </tr>\n",
       "    <tr>\n",
       "      <th>3</th>\n",
       "      <td>427.503</td>\n",
       "      <td>5.5375</td>\n",
       "      <td>0.0</td>\n",
       "      <td>6.0</td>\n",
       "    </tr>\n",
       "    <tr>\n",
       "      <th>4</th>\n",
       "      <td>413.476</td>\n",
       "      <td>5.1474</td>\n",
       "      <td>0.0</td>\n",
       "      <td>6.0</td>\n",
       "    </tr>\n",
       "    <tr>\n",
       "      <th>5</th>\n",
       "      <td>399.449</td>\n",
       "      <td>4.7573</td>\n",
       "      <td>0.0</td>\n",
       "      <td>6.0</td>\n",
       "    </tr>\n",
       "    <tr>\n",
       "      <th>6</th>\n",
       "      <td>385.422</td>\n",
       "      <td>4.3672</td>\n",
       "      <td>0.0</td>\n",
       "      <td>6.0</td>\n",
       "    </tr>\n",
       "    <tr>\n",
       "      <th>7</th>\n",
       "      <td>371.395</td>\n",
       "      <td>3.9771</td>\n",
       "      <td>0.0</td>\n",
       "      <td>6.0</td>\n",
       "    </tr>\n",
       "    <tr>\n",
       "      <th>8</th>\n",
       "      <td>357.368</td>\n",
       "      <td>3.5870</td>\n",
       "      <td>0.0</td>\n",
       "      <td>6.0</td>\n",
       "    </tr>\n",
       "    <tr>\n",
       "      <th>9</th>\n",
       "      <td>478.594</td>\n",
       "      <td>7.9358</td>\n",
       "      <td>0.0</td>\n",
       "      <td>8.0</td>\n",
       "    </tr>\n",
       "    <tr>\n",
       "      <th>10</th>\n",
       "      <td>464.567</td>\n",
       "      <td>7.5457</td>\n",
       "      <td>0.0</td>\n",
       "      <td>8.0</td>\n",
       "    </tr>\n",
       "    <tr>\n",
       "      <th>11</th>\n",
       "      <td>450.540</td>\n",
       "      <td>7.1556</td>\n",
       "      <td>0.0</td>\n",
       "      <td>8.0</td>\n",
       "    </tr>\n",
       "    <tr>\n",
       "      <th>12</th>\n",
       "      <td>436.513</td>\n",
       "      <td>6.7655</td>\n",
       "      <td>0.0</td>\n",
       "      <td>8.0</td>\n",
       "    </tr>\n",
       "    <tr>\n",
       "      <th>13</th>\n",
       "      <td>422.486</td>\n",
       "      <td>6.3754</td>\n",
       "      <td>0.0</td>\n",
       "      <td>8.0</td>\n",
       "    </tr>\n",
       "    <tr>\n",
       "      <th>14</th>\n",
       "      <td>408.459</td>\n",
       "      <td>5.9853</td>\n",
       "      <td>0.0</td>\n",
       "      <td>8.0</td>\n",
       "    </tr>\n",
       "    <tr>\n",
       "      <th>15</th>\n",
       "      <td>394.432</td>\n",
       "      <td>5.5952</td>\n",
       "      <td>0.0</td>\n",
       "      <td>8.0</td>\n",
       "    </tr>\n",
       "    <tr>\n",
       "      <th>16</th>\n",
       "      <td>380.405</td>\n",
       "      <td>5.2051</td>\n",
       "      <td>0.0</td>\n",
       "      <td>8.0</td>\n",
       "    </tr>\n",
       "    <tr>\n",
       "      <th>17</th>\n",
       "      <td>170.170</td>\n",
       "      <td>1.2762</td>\n",
       "      <td>1.0</td>\n",
       "      <td>3.0</td>\n",
       "    </tr>\n",
       "  </tbody>\n",
       "</table>\n",
       "</div>"
      ],
      "text/plain": [
       "         MW    LogP  NumHDonors  NumHAcceptors\n",
       "0   350.591  4.7181         0.0            5.0\n",
       "1   455.557  6.3177         0.0            6.0\n",
       "2   441.530  5.9276         0.0            6.0\n",
       "3   427.503  5.5375         0.0            6.0\n",
       "4   413.476  5.1474         0.0            6.0\n",
       "5   399.449  4.7573         0.0            6.0\n",
       "6   385.422  4.3672         0.0            6.0\n",
       "7   371.395  3.9771         0.0            6.0\n",
       "8   357.368  3.5870         0.0            6.0\n",
       "9   478.594  7.9358         0.0            8.0\n",
       "10  464.567  7.5457         0.0            8.0\n",
       "11  450.540  7.1556         0.0            8.0\n",
       "12  436.513  6.7655         0.0            8.0\n",
       "13  422.486  6.3754         0.0            8.0\n",
       "14  408.459  5.9853         0.0            8.0\n",
       "15  394.432  5.5952         0.0            8.0\n",
       "16  380.405  5.2051         0.0            8.0\n",
       "17  170.170  1.2762         1.0            3.0"
      ]
     },
     "execution_count": 13,
     "metadata": {},
     "output_type": "execute_result"
    }
   ],
   "source": [
    "df_lipinski"
   ]
  },
  {
   "cell_type": "code",
   "execution_count": 14,
   "metadata": {
    "colab": {
     "base_uri": "https://localhost:8080/",
     "height": 419
    },
    "colab_type": "code",
    "id": "9-ChzM8_wuq_",
    "outputId": "64a6a0c0-e29a-4cdd-c9ea-9b102b63cfe2"
   },
   "outputs": [
    {
     "data": {
      "text/html": [
       "<div>\n",
       "<style scoped>\n",
       "    .dataframe tbody tr th:only-of-type {\n",
       "        vertical-align: middle;\n",
       "    }\n",
       "\n",
       "    .dataframe tbody tr th {\n",
       "        vertical-align: top;\n",
       "    }\n",
       "\n",
       "    .dataframe thead th {\n",
       "        text-align: right;\n",
       "    }\n",
       "</style>\n",
       "<table border=\"1\" class=\"dataframe\">\n",
       "  <thead>\n",
       "    <tr style=\"text-align: right;\">\n",
       "      <th></th>\n",
       "      <th>molecule_chembl_id</th>\n",
       "      <th>canonical_smiles</th>\n",
       "      <th>standard_value</th>\n",
       "      <th>class</th>\n",
       "    </tr>\n",
       "  </thead>\n",
       "  <tbody>\n",
       "    <tr>\n",
       "      <th>0</th>\n",
       "      <td>CHEMBL463210</td>\n",
       "      <td>CCOP(=S)(OCC)Oc1nc(Cl)c(Cl)cc1Cl</td>\n",
       "      <td>1830.0</td>\n",
       "      <td>intermediate</td>\n",
       "    </tr>\n",
       "    <tr>\n",
       "      <th>1</th>\n",
       "      <td>CHEMBL2252723</td>\n",
       "      <td>CCOP(=O)(OCC)SCCCCCCCCCCN1C(=O)c2ccccc2C1=O</td>\n",
       "      <td>112720.0</td>\n",
       "      <td>inactive</td>\n",
       "    </tr>\n",
       "    <tr>\n",
       "      <th>2</th>\n",
       "      <td>CHEMBL2252722</td>\n",
       "      <td>CCOP(=O)(OCC)SCCCCCCCCCN1C(=O)c2ccccc2C1=O</td>\n",
       "      <td>37500.0</td>\n",
       "      <td>inactive</td>\n",
       "    </tr>\n",
       "    <tr>\n",
       "      <th>3</th>\n",
       "      <td>CHEMBL2252721</td>\n",
       "      <td>CCOP(=O)(OCC)SCCCCCCCCN1C(=O)c2ccccc2C1=O</td>\n",
       "      <td>4500.0</td>\n",
       "      <td>intermediate</td>\n",
       "    </tr>\n",
       "    <tr>\n",
       "      <th>4</th>\n",
       "      <td>CHEMBL2252851</td>\n",
       "      <td>CCOP(=O)(OCC)SCCCCCCCN1C(=O)c2ccccc2C1=O</td>\n",
       "      <td>1840.0</td>\n",
       "      <td>intermediate</td>\n",
       "    </tr>\n",
       "    <tr>\n",
       "      <th>5</th>\n",
       "      <td>CHEMBL2252850</td>\n",
       "      <td>CCOP(=O)(OCC)SCCCCCCN1C(=O)c2ccccc2C1=O</td>\n",
       "      <td>3810.0</td>\n",
       "      <td>intermediate</td>\n",
       "    </tr>\n",
       "    <tr>\n",
       "      <th>6</th>\n",
       "      <td>CHEMBL2252849</td>\n",
       "      <td>CCOP(=O)(OCC)SCCCCCN1C(=O)c2ccccc2C1=O</td>\n",
       "      <td>12340.0</td>\n",
       "      <td>inactive</td>\n",
       "    </tr>\n",
       "    <tr>\n",
       "      <th>7</th>\n",
       "      <td>CHEMBL2252848</td>\n",
       "      <td>CCOP(=O)(OCC)SCCCCN1C(=O)c2ccccc2C1=O</td>\n",
       "      <td>9920.0</td>\n",
       "      <td>intermediate</td>\n",
       "    </tr>\n",
       "    <tr>\n",
       "      <th>8</th>\n",
       "      <td>CHEMBL2252847</td>\n",
       "      <td>CCOP(=O)(OCC)SCCCN1C(=O)c2ccccc2C1=O</td>\n",
       "      <td>8290.0</td>\n",
       "      <td>intermediate</td>\n",
       "    </tr>\n",
       "    <tr>\n",
       "      <th>9</th>\n",
       "      <td>CHEMBL2252846</td>\n",
       "      <td>CCOP(=O)(OCC)SCCCCCCCCCCSP(=O)(OCC)OCC</td>\n",
       "      <td>1760.0</td>\n",
       "      <td>intermediate</td>\n",
       "    </tr>\n",
       "    <tr>\n",
       "      <th>10</th>\n",
       "      <td>CHEMBL2252845</td>\n",
       "      <td>CCOP(=O)(OCC)SCCCCCCCCCSP(=O)(OCC)OCC</td>\n",
       "      <td>1430.0</td>\n",
       "      <td>intermediate</td>\n",
       "    </tr>\n",
       "    <tr>\n",
       "      <th>11</th>\n",
       "      <td>CHEMBL2252844</td>\n",
       "      <td>CCOP(=O)(OCC)SCCCCCCCCSP(=O)(OCC)OCC</td>\n",
       "      <td>4840.0</td>\n",
       "      <td>intermediate</td>\n",
       "    </tr>\n",
       "    <tr>\n",
       "      <th>12</th>\n",
       "      <td>CHEMBL2252843</td>\n",
       "      <td>CCOP(=O)(OCC)SCCCCCCCSP(=O)(OCC)OCC</td>\n",
       "      <td>10200.0</td>\n",
       "      <td>inactive</td>\n",
       "    </tr>\n",
       "    <tr>\n",
       "      <th>13</th>\n",
       "      <td>CHEMBL2252842</td>\n",
       "      <td>CCOP(=O)(OCC)SCCCCCCSP(=O)(OCC)OCC</td>\n",
       "      <td>870.0</td>\n",
       "      <td>active</td>\n",
       "    </tr>\n",
       "    <tr>\n",
       "      <th>14</th>\n",
       "      <td>CHEMBL2252841</td>\n",
       "      <td>CCOP(=O)(OCC)SCCCCCSP(=O)(OCC)OCC</td>\n",
       "      <td>12340.0</td>\n",
       "      <td>inactive</td>\n",
       "    </tr>\n",
       "    <tr>\n",
       "      <th>15</th>\n",
       "      <td>CHEMBL2252840</td>\n",
       "      <td>CCOP(=O)(OCC)SCCCCSP(=O)(OCC)OCC</td>\n",
       "      <td>8070.0</td>\n",
       "      <td>intermediate</td>\n",
       "    </tr>\n",
       "    <tr>\n",
       "      <th>16</th>\n",
       "      <td>CHEMBL2252724</td>\n",
       "      <td>CCOP(=O)(OCC)SCCCSP(=O)(OCC)OCC</td>\n",
       "      <td>1640.0</td>\n",
       "      <td>intermediate</td>\n",
       "    </tr>\n",
       "    <tr>\n",
       "      <th>17</th>\n",
       "      <td>CHEMBL1232328</td>\n",
       "      <td>CCOP(O)(=S)OCC</td>\n",
       "      <td>40000000.0</td>\n",
       "      <td>inactive</td>\n",
       "    </tr>\n",
       "  </tbody>\n",
       "</table>\n",
       "</div>"
      ],
      "text/plain": [
       "   molecule_chembl_id                             canonical_smiles  \\\n",
       "0        CHEMBL463210             CCOP(=S)(OCC)Oc1nc(Cl)c(Cl)cc1Cl   \n",
       "1       CHEMBL2252723  CCOP(=O)(OCC)SCCCCCCCCCCN1C(=O)c2ccccc2C1=O   \n",
       "2       CHEMBL2252722   CCOP(=O)(OCC)SCCCCCCCCCN1C(=O)c2ccccc2C1=O   \n",
       "3       CHEMBL2252721    CCOP(=O)(OCC)SCCCCCCCCN1C(=O)c2ccccc2C1=O   \n",
       "4       CHEMBL2252851     CCOP(=O)(OCC)SCCCCCCCN1C(=O)c2ccccc2C1=O   \n",
       "5       CHEMBL2252850      CCOP(=O)(OCC)SCCCCCCN1C(=O)c2ccccc2C1=O   \n",
       "6       CHEMBL2252849       CCOP(=O)(OCC)SCCCCCN1C(=O)c2ccccc2C1=O   \n",
       "7       CHEMBL2252848        CCOP(=O)(OCC)SCCCCN1C(=O)c2ccccc2C1=O   \n",
       "8       CHEMBL2252847         CCOP(=O)(OCC)SCCCN1C(=O)c2ccccc2C1=O   \n",
       "9       CHEMBL2252846       CCOP(=O)(OCC)SCCCCCCCCCCSP(=O)(OCC)OCC   \n",
       "10      CHEMBL2252845        CCOP(=O)(OCC)SCCCCCCCCCSP(=O)(OCC)OCC   \n",
       "11      CHEMBL2252844         CCOP(=O)(OCC)SCCCCCCCCSP(=O)(OCC)OCC   \n",
       "12      CHEMBL2252843          CCOP(=O)(OCC)SCCCCCCCSP(=O)(OCC)OCC   \n",
       "13      CHEMBL2252842           CCOP(=O)(OCC)SCCCCCCSP(=O)(OCC)OCC   \n",
       "14      CHEMBL2252841            CCOP(=O)(OCC)SCCCCCSP(=O)(OCC)OCC   \n",
       "15      CHEMBL2252840             CCOP(=O)(OCC)SCCCCSP(=O)(OCC)OCC   \n",
       "16      CHEMBL2252724              CCOP(=O)(OCC)SCCCSP(=O)(OCC)OCC   \n",
       "17      CHEMBL1232328                               CCOP(O)(=S)OCC   \n",
       "\n",
       "    standard_value         class  \n",
       "0           1830.0  intermediate  \n",
       "1         112720.0      inactive  \n",
       "2          37500.0      inactive  \n",
       "3           4500.0  intermediate  \n",
       "4           1840.0  intermediate  \n",
       "5           3810.0  intermediate  \n",
       "6          12340.0      inactive  \n",
       "7           9920.0  intermediate  \n",
       "8           8290.0  intermediate  \n",
       "9           1760.0  intermediate  \n",
       "10          1430.0  intermediate  \n",
       "11          4840.0  intermediate  \n",
       "12         10200.0      inactive  \n",
       "13           870.0        active  \n",
       "14         12340.0      inactive  \n",
       "15          8070.0  intermediate  \n",
       "16          1640.0  intermediate  \n",
       "17      40000000.0      inactive  "
      ]
     },
     "execution_count": 14,
     "metadata": {},
     "output_type": "execute_result"
    }
   ],
   "source": [
    "df"
   ]
  },
  {
   "cell_type": "markdown",
   "metadata": {
    "colab_type": "text",
    "id": "eET6iZ1Aw3oe"
   },
   "source": [
    "Now, let's combine the 2 DataFrame"
   ]
  },
  {
   "cell_type": "code",
   "execution_count": 15,
   "metadata": {
    "colab": {},
    "colab_type": "code",
    "id": "L9nUZC0Ww3gp"
   },
   "outputs": [],
   "source": [
    "df_combined = pd.concat([df,df_lipinski], axis=1)"
   ]
  },
  {
   "cell_type": "code",
   "execution_count": 16,
   "metadata": {
    "colab": {
     "base_uri": "https://localhost:8080/",
     "height": 419
    },
    "colab_type": "code",
    "id": "FRBfBP3QxFJp",
    "outputId": "33528544-8108-4303-a9f2-977c0f6aef91"
   },
   "outputs": [
    {
     "data": {
      "text/html": [
       "<div>\n",
       "<style scoped>\n",
       "    .dataframe tbody tr th:only-of-type {\n",
       "        vertical-align: middle;\n",
       "    }\n",
       "\n",
       "    .dataframe tbody tr th {\n",
       "        vertical-align: top;\n",
       "    }\n",
       "\n",
       "    .dataframe thead th {\n",
       "        text-align: right;\n",
       "    }\n",
       "</style>\n",
       "<table border=\"1\" class=\"dataframe\">\n",
       "  <thead>\n",
       "    <tr style=\"text-align: right;\">\n",
       "      <th></th>\n",
       "      <th>molecule_chembl_id</th>\n",
       "      <th>canonical_smiles</th>\n",
       "      <th>standard_value</th>\n",
       "      <th>class</th>\n",
       "      <th>MW</th>\n",
       "      <th>LogP</th>\n",
       "      <th>NumHDonors</th>\n",
       "      <th>NumHAcceptors</th>\n",
       "    </tr>\n",
       "  </thead>\n",
       "  <tbody>\n",
       "    <tr>\n",
       "      <th>0</th>\n",
       "      <td>CHEMBL463210</td>\n",
       "      <td>CCOP(=S)(OCC)Oc1nc(Cl)c(Cl)cc1Cl</td>\n",
       "      <td>1830.0</td>\n",
       "      <td>intermediate</td>\n",
       "      <td>350.591</td>\n",
       "      <td>4.7181</td>\n",
       "      <td>0.0</td>\n",
       "      <td>5.0</td>\n",
       "    </tr>\n",
       "    <tr>\n",
       "      <th>1</th>\n",
       "      <td>CHEMBL2252723</td>\n",
       "      <td>CCOP(=O)(OCC)SCCCCCCCCCCN1C(=O)c2ccccc2C1=O</td>\n",
       "      <td>112720.0</td>\n",
       "      <td>inactive</td>\n",
       "      <td>455.557</td>\n",
       "      <td>6.3177</td>\n",
       "      <td>0.0</td>\n",
       "      <td>6.0</td>\n",
       "    </tr>\n",
       "    <tr>\n",
       "      <th>2</th>\n",
       "      <td>CHEMBL2252722</td>\n",
       "      <td>CCOP(=O)(OCC)SCCCCCCCCCN1C(=O)c2ccccc2C1=O</td>\n",
       "      <td>37500.0</td>\n",
       "      <td>inactive</td>\n",
       "      <td>441.530</td>\n",
       "      <td>5.9276</td>\n",
       "      <td>0.0</td>\n",
       "      <td>6.0</td>\n",
       "    </tr>\n",
       "    <tr>\n",
       "      <th>3</th>\n",
       "      <td>CHEMBL2252721</td>\n",
       "      <td>CCOP(=O)(OCC)SCCCCCCCCN1C(=O)c2ccccc2C1=O</td>\n",
       "      <td>4500.0</td>\n",
       "      <td>intermediate</td>\n",
       "      <td>427.503</td>\n",
       "      <td>5.5375</td>\n",
       "      <td>0.0</td>\n",
       "      <td>6.0</td>\n",
       "    </tr>\n",
       "    <tr>\n",
       "      <th>4</th>\n",
       "      <td>CHEMBL2252851</td>\n",
       "      <td>CCOP(=O)(OCC)SCCCCCCCN1C(=O)c2ccccc2C1=O</td>\n",
       "      <td>1840.0</td>\n",
       "      <td>intermediate</td>\n",
       "      <td>413.476</td>\n",
       "      <td>5.1474</td>\n",
       "      <td>0.0</td>\n",
       "      <td>6.0</td>\n",
       "    </tr>\n",
       "    <tr>\n",
       "      <th>5</th>\n",
       "      <td>CHEMBL2252850</td>\n",
       "      <td>CCOP(=O)(OCC)SCCCCCCN1C(=O)c2ccccc2C1=O</td>\n",
       "      <td>3810.0</td>\n",
       "      <td>intermediate</td>\n",
       "      <td>399.449</td>\n",
       "      <td>4.7573</td>\n",
       "      <td>0.0</td>\n",
       "      <td>6.0</td>\n",
       "    </tr>\n",
       "    <tr>\n",
       "      <th>6</th>\n",
       "      <td>CHEMBL2252849</td>\n",
       "      <td>CCOP(=O)(OCC)SCCCCCN1C(=O)c2ccccc2C1=O</td>\n",
       "      <td>12340.0</td>\n",
       "      <td>inactive</td>\n",
       "      <td>385.422</td>\n",
       "      <td>4.3672</td>\n",
       "      <td>0.0</td>\n",
       "      <td>6.0</td>\n",
       "    </tr>\n",
       "    <tr>\n",
       "      <th>7</th>\n",
       "      <td>CHEMBL2252848</td>\n",
       "      <td>CCOP(=O)(OCC)SCCCCN1C(=O)c2ccccc2C1=O</td>\n",
       "      <td>9920.0</td>\n",
       "      <td>intermediate</td>\n",
       "      <td>371.395</td>\n",
       "      <td>3.9771</td>\n",
       "      <td>0.0</td>\n",
       "      <td>6.0</td>\n",
       "    </tr>\n",
       "    <tr>\n",
       "      <th>8</th>\n",
       "      <td>CHEMBL2252847</td>\n",
       "      <td>CCOP(=O)(OCC)SCCCN1C(=O)c2ccccc2C1=O</td>\n",
       "      <td>8290.0</td>\n",
       "      <td>intermediate</td>\n",
       "      <td>357.368</td>\n",
       "      <td>3.5870</td>\n",
       "      <td>0.0</td>\n",
       "      <td>6.0</td>\n",
       "    </tr>\n",
       "    <tr>\n",
       "      <th>9</th>\n",
       "      <td>CHEMBL2252846</td>\n",
       "      <td>CCOP(=O)(OCC)SCCCCCCCCCCSP(=O)(OCC)OCC</td>\n",
       "      <td>1760.0</td>\n",
       "      <td>intermediate</td>\n",
       "      <td>478.594</td>\n",
       "      <td>7.9358</td>\n",
       "      <td>0.0</td>\n",
       "      <td>8.0</td>\n",
       "    </tr>\n",
       "    <tr>\n",
       "      <th>10</th>\n",
       "      <td>CHEMBL2252845</td>\n",
       "      <td>CCOP(=O)(OCC)SCCCCCCCCCSP(=O)(OCC)OCC</td>\n",
       "      <td>1430.0</td>\n",
       "      <td>intermediate</td>\n",
       "      <td>464.567</td>\n",
       "      <td>7.5457</td>\n",
       "      <td>0.0</td>\n",
       "      <td>8.0</td>\n",
       "    </tr>\n",
       "    <tr>\n",
       "      <th>11</th>\n",
       "      <td>CHEMBL2252844</td>\n",
       "      <td>CCOP(=O)(OCC)SCCCCCCCCSP(=O)(OCC)OCC</td>\n",
       "      <td>4840.0</td>\n",
       "      <td>intermediate</td>\n",
       "      <td>450.540</td>\n",
       "      <td>7.1556</td>\n",
       "      <td>0.0</td>\n",
       "      <td>8.0</td>\n",
       "    </tr>\n",
       "    <tr>\n",
       "      <th>12</th>\n",
       "      <td>CHEMBL2252843</td>\n",
       "      <td>CCOP(=O)(OCC)SCCCCCCCSP(=O)(OCC)OCC</td>\n",
       "      <td>10200.0</td>\n",
       "      <td>inactive</td>\n",
       "      <td>436.513</td>\n",
       "      <td>6.7655</td>\n",
       "      <td>0.0</td>\n",
       "      <td>8.0</td>\n",
       "    </tr>\n",
       "    <tr>\n",
       "      <th>13</th>\n",
       "      <td>CHEMBL2252842</td>\n",
       "      <td>CCOP(=O)(OCC)SCCCCCCSP(=O)(OCC)OCC</td>\n",
       "      <td>870.0</td>\n",
       "      <td>active</td>\n",
       "      <td>422.486</td>\n",
       "      <td>6.3754</td>\n",
       "      <td>0.0</td>\n",
       "      <td>8.0</td>\n",
       "    </tr>\n",
       "    <tr>\n",
       "      <th>14</th>\n",
       "      <td>CHEMBL2252841</td>\n",
       "      <td>CCOP(=O)(OCC)SCCCCCSP(=O)(OCC)OCC</td>\n",
       "      <td>12340.0</td>\n",
       "      <td>inactive</td>\n",
       "      <td>408.459</td>\n",
       "      <td>5.9853</td>\n",
       "      <td>0.0</td>\n",
       "      <td>8.0</td>\n",
       "    </tr>\n",
       "    <tr>\n",
       "      <th>15</th>\n",
       "      <td>CHEMBL2252840</td>\n",
       "      <td>CCOP(=O)(OCC)SCCCCSP(=O)(OCC)OCC</td>\n",
       "      <td>8070.0</td>\n",
       "      <td>intermediate</td>\n",
       "      <td>394.432</td>\n",
       "      <td>5.5952</td>\n",
       "      <td>0.0</td>\n",
       "      <td>8.0</td>\n",
       "    </tr>\n",
       "    <tr>\n",
       "      <th>16</th>\n",
       "      <td>CHEMBL2252724</td>\n",
       "      <td>CCOP(=O)(OCC)SCCCSP(=O)(OCC)OCC</td>\n",
       "      <td>1640.0</td>\n",
       "      <td>intermediate</td>\n",
       "      <td>380.405</td>\n",
       "      <td>5.2051</td>\n",
       "      <td>0.0</td>\n",
       "      <td>8.0</td>\n",
       "    </tr>\n",
       "    <tr>\n",
       "      <th>17</th>\n",
       "      <td>CHEMBL1232328</td>\n",
       "      <td>CCOP(O)(=S)OCC</td>\n",
       "      <td>40000000.0</td>\n",
       "      <td>inactive</td>\n",
       "      <td>170.170</td>\n",
       "      <td>1.2762</td>\n",
       "      <td>1.0</td>\n",
       "      <td>3.0</td>\n",
       "    </tr>\n",
       "  </tbody>\n",
       "</table>\n",
       "</div>"
      ],
      "text/plain": [
       "   molecule_chembl_id                             canonical_smiles  \\\n",
       "0        CHEMBL463210             CCOP(=S)(OCC)Oc1nc(Cl)c(Cl)cc1Cl   \n",
       "1       CHEMBL2252723  CCOP(=O)(OCC)SCCCCCCCCCCN1C(=O)c2ccccc2C1=O   \n",
       "2       CHEMBL2252722   CCOP(=O)(OCC)SCCCCCCCCCN1C(=O)c2ccccc2C1=O   \n",
       "3       CHEMBL2252721    CCOP(=O)(OCC)SCCCCCCCCN1C(=O)c2ccccc2C1=O   \n",
       "4       CHEMBL2252851     CCOP(=O)(OCC)SCCCCCCCN1C(=O)c2ccccc2C1=O   \n",
       "5       CHEMBL2252850      CCOP(=O)(OCC)SCCCCCCN1C(=O)c2ccccc2C1=O   \n",
       "6       CHEMBL2252849       CCOP(=O)(OCC)SCCCCCN1C(=O)c2ccccc2C1=O   \n",
       "7       CHEMBL2252848        CCOP(=O)(OCC)SCCCCN1C(=O)c2ccccc2C1=O   \n",
       "8       CHEMBL2252847         CCOP(=O)(OCC)SCCCN1C(=O)c2ccccc2C1=O   \n",
       "9       CHEMBL2252846       CCOP(=O)(OCC)SCCCCCCCCCCSP(=O)(OCC)OCC   \n",
       "10      CHEMBL2252845        CCOP(=O)(OCC)SCCCCCCCCCSP(=O)(OCC)OCC   \n",
       "11      CHEMBL2252844         CCOP(=O)(OCC)SCCCCCCCCSP(=O)(OCC)OCC   \n",
       "12      CHEMBL2252843          CCOP(=O)(OCC)SCCCCCCCSP(=O)(OCC)OCC   \n",
       "13      CHEMBL2252842           CCOP(=O)(OCC)SCCCCCCSP(=O)(OCC)OCC   \n",
       "14      CHEMBL2252841            CCOP(=O)(OCC)SCCCCCSP(=O)(OCC)OCC   \n",
       "15      CHEMBL2252840             CCOP(=O)(OCC)SCCCCSP(=O)(OCC)OCC   \n",
       "16      CHEMBL2252724              CCOP(=O)(OCC)SCCCSP(=O)(OCC)OCC   \n",
       "17      CHEMBL1232328                               CCOP(O)(=S)OCC   \n",
       "\n",
       "    standard_value         class       MW    LogP  NumHDonors  NumHAcceptors  \n",
       "0           1830.0  intermediate  350.591  4.7181         0.0            5.0  \n",
       "1         112720.0      inactive  455.557  6.3177         0.0            6.0  \n",
       "2          37500.0      inactive  441.530  5.9276         0.0            6.0  \n",
       "3           4500.0  intermediate  427.503  5.5375         0.0            6.0  \n",
       "4           1840.0  intermediate  413.476  5.1474         0.0            6.0  \n",
       "5           3810.0  intermediate  399.449  4.7573         0.0            6.0  \n",
       "6          12340.0      inactive  385.422  4.3672         0.0            6.0  \n",
       "7           9920.0  intermediate  371.395  3.9771         0.0            6.0  \n",
       "8           8290.0  intermediate  357.368  3.5870         0.0            6.0  \n",
       "9           1760.0  intermediate  478.594  7.9358         0.0            8.0  \n",
       "10          1430.0  intermediate  464.567  7.5457         0.0            8.0  \n",
       "11          4840.0  intermediate  450.540  7.1556         0.0            8.0  \n",
       "12         10200.0      inactive  436.513  6.7655         0.0            8.0  \n",
       "13           870.0        active  422.486  6.3754         0.0            8.0  \n",
       "14         12340.0      inactive  408.459  5.9853         0.0            8.0  \n",
       "15          8070.0  intermediate  394.432  5.5952         0.0            8.0  \n",
       "16          1640.0  intermediate  380.405  5.2051         0.0            8.0  \n",
       "17      40000000.0      inactive  170.170  1.2762         1.0            3.0  "
      ]
     },
     "execution_count": 16,
     "metadata": {},
     "output_type": "execute_result"
    }
   ],
   "source": [
    "df_combined"
   ]
  },
  {
   "cell_type": "markdown",
   "metadata": {
    "colab_type": "text",
    "id": "e0MLOedB6j96"
   },
   "source": [
    "### **Convert IC50 to pIC50**\n",
    "To allow **IC50** data to be more uniformly distributed, we will convert **IC50** to the negative logarithmic scale which is essentially **-log10(IC50)**.\n",
    "\n",
    "This custom function pIC50() will accept a DataFrame as input and will:\n",
    "* Take the IC50 values from the ``standard_value`` column and converts it from nM to M by multiplying the value by 10$^{-9}$\n",
    "* Take the molar value and apply -log10\n",
    "* Delete the ``standard_value`` column and create a new ``pIC50`` column"
   ]
  },
  {
   "cell_type": "code",
   "execution_count": 23,
   "metadata": {
    "colab": {},
    "colab_type": "code",
    "id": "UXMuFQoQ4pZF"
   },
   "outputs": [],
   "source": [
    "# https://github.com/chaninlab/estrogen-receptor-alpha-qsar/blob/master/02_ER_alpha_RO5.ipynb\n",
    "\n",
    "import numpy as np\n",
    "\n",
    "def pIC50(input):\n",
    "    pIC50 = []\n",
    "\n",
    "    for i in input['standard_value_norm']:\n",
    "        molar = i*(10**-9) # Converts nM to M\n",
    "        pIC50.append(-np.log10(molar))\n",
    "\n",
    "    input['pIC50'] = pIC50\n",
    "    x = input.drop('standard_value_norm', axis=1)\n",
    "        \n",
    "    return x"
   ]
  },
  {
   "cell_type": "markdown",
   "metadata": {
    "colab_type": "text",
    "id": "WU5Fh1h2OaJJ"
   },
   "source": [
    "Point to note: Values greater than 100,000,000 will be fixed at 100,000,000 otherwise the negative logarithmic value will become negative."
   ]
  },
  {
   "cell_type": "code",
   "execution_count": 24,
   "metadata": {
    "colab": {
     "base_uri": "https://localhost:8080/",
     "height": 170
    },
    "colab_type": "code",
    "id": "QuUTFUpcR1wU",
    "outputId": "3e3fe22d-8587-42e3-c92e-396d37877589"
   },
   "outputs": [
    {
     "data": {
      "text/plain": [
       "count    1.800000e+01\n",
       "mean     2.235217e+06\n",
       "std      9.424884e+06\n",
       "min      8.700000e+02\n",
       "25%      1.832500e+03\n",
       "50%      6.455000e+03\n",
       "75%      1.180500e+04\n",
       "max      4.000000e+07\n",
       "Name: standard_value, dtype: float64"
      ]
     },
     "execution_count": 24,
     "metadata": {},
     "output_type": "execute_result"
    }
   ],
   "source": [
    "df_combined.standard_value.describe()"
   ]
  },
  {
   "cell_type": "code",
   "execution_count": 25,
   "metadata": {
    "colab": {
     "base_uri": "https://localhost:8080/",
     "height": 34
    },
    "colab_type": "code",
    "id": "QyiJ0to5N6Z_",
    "outputId": "58b38ec2-8f7d-4f44-cc35-1ef394f57854"
   },
   "outputs": [
    {
     "data": {
      "text/plain": [
       "np.float64(1.0)"
      ]
     },
     "execution_count": 25,
     "metadata": {},
     "output_type": "execute_result"
    }
   ],
   "source": [
    "-np.log10( (10**-9)* 100000000 )"
   ]
  },
  {
   "cell_type": "code",
   "execution_count": 26,
   "metadata": {
    "colab": {
     "base_uri": "https://localhost:8080/",
     "height": 34
    },
    "colab_type": "code",
    "id": "9S1aJkOYOP6K",
    "outputId": "0d9c6937-7c36-4844-f84b-9a95a22802dc"
   },
   "outputs": [
    {
     "data": {
      "text/plain": [
       "np.float64(-1.0)"
      ]
     },
     "execution_count": 26,
     "metadata": {},
     "output_type": "execute_result"
    }
   ],
   "source": [
    "-np.log10( (10**-9)* 10000000000 )"
   ]
  },
  {
   "cell_type": "code",
   "execution_count": 29,
   "metadata": {
    "colab": {},
    "colab_type": "code",
    "id": "iktHDDwtPDwl"
   },
   "outputs": [],
   "source": [
    "def norm_value(input):\n",
    "    norm = []\n",
    "\n",
    "    for i in input['standard_value']:\n",
    "        if i > 100000000:\n",
    "          i = 100000000\n",
    "        norm.append(i)\n",
    "\n",
    "    input['standard_value_norm'] = norm\n",
    "    x = input.drop('standard_value', axis=1)\n",
    "        \n",
    "    return x"
   ]
  },
  {
   "cell_type": "markdown",
   "metadata": {
    "colab_type": "text",
    "id": "EkrTs7RfPsrH"
   },
   "source": [
    "We will first apply the norm_value() function so that the values in the standard_value column is normalized."
   ]
  },
  {
   "cell_type": "code",
   "execution_count": 30,
   "metadata": {
    "colab": {
     "base_uri": "https://localhost:8080/",
     "height": 419
    },
    "colab_type": "code",
    "id": "EX2Mj2-ZP1Rj",
    "outputId": "8e07791e-d693-4d1b-9f82-f396d34c6338"
   },
   "outputs": [
    {
     "data": {
      "text/html": [
       "<div>\n",
       "<style scoped>\n",
       "    .dataframe tbody tr th:only-of-type {\n",
       "        vertical-align: middle;\n",
       "    }\n",
       "\n",
       "    .dataframe tbody tr th {\n",
       "        vertical-align: top;\n",
       "    }\n",
       "\n",
       "    .dataframe thead th {\n",
       "        text-align: right;\n",
       "    }\n",
       "</style>\n",
       "<table border=\"1\" class=\"dataframe\">\n",
       "  <thead>\n",
       "    <tr style=\"text-align: right;\">\n",
       "      <th></th>\n",
       "      <th>molecule_chembl_id</th>\n",
       "      <th>canonical_smiles</th>\n",
       "      <th>class</th>\n",
       "      <th>MW</th>\n",
       "      <th>LogP</th>\n",
       "      <th>NumHDonors</th>\n",
       "      <th>NumHAcceptors</th>\n",
       "      <th>standard_value_norm</th>\n",
       "    </tr>\n",
       "  </thead>\n",
       "  <tbody>\n",
       "    <tr>\n",
       "      <th>0</th>\n",
       "      <td>CHEMBL463210</td>\n",
       "      <td>CCOP(=S)(OCC)Oc1nc(Cl)c(Cl)cc1Cl</td>\n",
       "      <td>intermediate</td>\n",
       "      <td>350.591</td>\n",
       "      <td>4.7181</td>\n",
       "      <td>0.0</td>\n",
       "      <td>5.0</td>\n",
       "      <td>1830.0</td>\n",
       "    </tr>\n",
       "    <tr>\n",
       "      <th>1</th>\n",
       "      <td>CHEMBL2252723</td>\n",
       "      <td>CCOP(=O)(OCC)SCCCCCCCCCCN1C(=O)c2ccccc2C1=O</td>\n",
       "      <td>inactive</td>\n",
       "      <td>455.557</td>\n",
       "      <td>6.3177</td>\n",
       "      <td>0.0</td>\n",
       "      <td>6.0</td>\n",
       "      <td>112720.0</td>\n",
       "    </tr>\n",
       "    <tr>\n",
       "      <th>2</th>\n",
       "      <td>CHEMBL2252722</td>\n",
       "      <td>CCOP(=O)(OCC)SCCCCCCCCCN1C(=O)c2ccccc2C1=O</td>\n",
       "      <td>inactive</td>\n",
       "      <td>441.530</td>\n",
       "      <td>5.9276</td>\n",
       "      <td>0.0</td>\n",
       "      <td>6.0</td>\n",
       "      <td>37500.0</td>\n",
       "    </tr>\n",
       "    <tr>\n",
       "      <th>3</th>\n",
       "      <td>CHEMBL2252721</td>\n",
       "      <td>CCOP(=O)(OCC)SCCCCCCCCN1C(=O)c2ccccc2C1=O</td>\n",
       "      <td>intermediate</td>\n",
       "      <td>427.503</td>\n",
       "      <td>5.5375</td>\n",
       "      <td>0.0</td>\n",
       "      <td>6.0</td>\n",
       "      <td>4500.0</td>\n",
       "    </tr>\n",
       "    <tr>\n",
       "      <th>4</th>\n",
       "      <td>CHEMBL2252851</td>\n",
       "      <td>CCOP(=O)(OCC)SCCCCCCCN1C(=O)c2ccccc2C1=O</td>\n",
       "      <td>intermediate</td>\n",
       "      <td>413.476</td>\n",
       "      <td>5.1474</td>\n",
       "      <td>0.0</td>\n",
       "      <td>6.0</td>\n",
       "      <td>1840.0</td>\n",
       "    </tr>\n",
       "    <tr>\n",
       "      <th>5</th>\n",
       "      <td>CHEMBL2252850</td>\n",
       "      <td>CCOP(=O)(OCC)SCCCCCCN1C(=O)c2ccccc2C1=O</td>\n",
       "      <td>intermediate</td>\n",
       "      <td>399.449</td>\n",
       "      <td>4.7573</td>\n",
       "      <td>0.0</td>\n",
       "      <td>6.0</td>\n",
       "      <td>3810.0</td>\n",
       "    </tr>\n",
       "    <tr>\n",
       "      <th>6</th>\n",
       "      <td>CHEMBL2252849</td>\n",
       "      <td>CCOP(=O)(OCC)SCCCCCN1C(=O)c2ccccc2C1=O</td>\n",
       "      <td>inactive</td>\n",
       "      <td>385.422</td>\n",
       "      <td>4.3672</td>\n",
       "      <td>0.0</td>\n",
       "      <td>6.0</td>\n",
       "      <td>12340.0</td>\n",
       "    </tr>\n",
       "    <tr>\n",
       "      <th>7</th>\n",
       "      <td>CHEMBL2252848</td>\n",
       "      <td>CCOP(=O)(OCC)SCCCCN1C(=O)c2ccccc2C1=O</td>\n",
       "      <td>intermediate</td>\n",
       "      <td>371.395</td>\n",
       "      <td>3.9771</td>\n",
       "      <td>0.0</td>\n",
       "      <td>6.0</td>\n",
       "      <td>9920.0</td>\n",
       "    </tr>\n",
       "    <tr>\n",
       "      <th>8</th>\n",
       "      <td>CHEMBL2252847</td>\n",
       "      <td>CCOP(=O)(OCC)SCCCN1C(=O)c2ccccc2C1=O</td>\n",
       "      <td>intermediate</td>\n",
       "      <td>357.368</td>\n",
       "      <td>3.5870</td>\n",
       "      <td>0.0</td>\n",
       "      <td>6.0</td>\n",
       "      <td>8290.0</td>\n",
       "    </tr>\n",
       "    <tr>\n",
       "      <th>9</th>\n",
       "      <td>CHEMBL2252846</td>\n",
       "      <td>CCOP(=O)(OCC)SCCCCCCCCCCSP(=O)(OCC)OCC</td>\n",
       "      <td>intermediate</td>\n",
       "      <td>478.594</td>\n",
       "      <td>7.9358</td>\n",
       "      <td>0.0</td>\n",
       "      <td>8.0</td>\n",
       "      <td>1760.0</td>\n",
       "    </tr>\n",
       "    <tr>\n",
       "      <th>10</th>\n",
       "      <td>CHEMBL2252845</td>\n",
       "      <td>CCOP(=O)(OCC)SCCCCCCCCCSP(=O)(OCC)OCC</td>\n",
       "      <td>intermediate</td>\n",
       "      <td>464.567</td>\n",
       "      <td>7.5457</td>\n",
       "      <td>0.0</td>\n",
       "      <td>8.0</td>\n",
       "      <td>1430.0</td>\n",
       "    </tr>\n",
       "    <tr>\n",
       "      <th>11</th>\n",
       "      <td>CHEMBL2252844</td>\n",
       "      <td>CCOP(=O)(OCC)SCCCCCCCCSP(=O)(OCC)OCC</td>\n",
       "      <td>intermediate</td>\n",
       "      <td>450.540</td>\n",
       "      <td>7.1556</td>\n",
       "      <td>0.0</td>\n",
       "      <td>8.0</td>\n",
       "      <td>4840.0</td>\n",
       "    </tr>\n",
       "    <tr>\n",
       "      <th>12</th>\n",
       "      <td>CHEMBL2252843</td>\n",
       "      <td>CCOP(=O)(OCC)SCCCCCCCSP(=O)(OCC)OCC</td>\n",
       "      <td>inactive</td>\n",
       "      <td>436.513</td>\n",
       "      <td>6.7655</td>\n",
       "      <td>0.0</td>\n",
       "      <td>8.0</td>\n",
       "      <td>10200.0</td>\n",
       "    </tr>\n",
       "    <tr>\n",
       "      <th>13</th>\n",
       "      <td>CHEMBL2252842</td>\n",
       "      <td>CCOP(=O)(OCC)SCCCCCCSP(=O)(OCC)OCC</td>\n",
       "      <td>active</td>\n",
       "      <td>422.486</td>\n",
       "      <td>6.3754</td>\n",
       "      <td>0.0</td>\n",
       "      <td>8.0</td>\n",
       "      <td>870.0</td>\n",
       "    </tr>\n",
       "    <tr>\n",
       "      <th>14</th>\n",
       "      <td>CHEMBL2252841</td>\n",
       "      <td>CCOP(=O)(OCC)SCCCCCSP(=O)(OCC)OCC</td>\n",
       "      <td>inactive</td>\n",
       "      <td>408.459</td>\n",
       "      <td>5.9853</td>\n",
       "      <td>0.0</td>\n",
       "      <td>8.0</td>\n",
       "      <td>12340.0</td>\n",
       "    </tr>\n",
       "    <tr>\n",
       "      <th>15</th>\n",
       "      <td>CHEMBL2252840</td>\n",
       "      <td>CCOP(=O)(OCC)SCCCCSP(=O)(OCC)OCC</td>\n",
       "      <td>intermediate</td>\n",
       "      <td>394.432</td>\n",
       "      <td>5.5952</td>\n",
       "      <td>0.0</td>\n",
       "      <td>8.0</td>\n",
       "      <td>8070.0</td>\n",
       "    </tr>\n",
       "    <tr>\n",
       "      <th>16</th>\n",
       "      <td>CHEMBL2252724</td>\n",
       "      <td>CCOP(=O)(OCC)SCCCSP(=O)(OCC)OCC</td>\n",
       "      <td>intermediate</td>\n",
       "      <td>380.405</td>\n",
       "      <td>5.2051</td>\n",
       "      <td>0.0</td>\n",
       "      <td>8.0</td>\n",
       "      <td>1640.0</td>\n",
       "    </tr>\n",
       "    <tr>\n",
       "      <th>17</th>\n",
       "      <td>CHEMBL1232328</td>\n",
       "      <td>CCOP(O)(=S)OCC</td>\n",
       "      <td>inactive</td>\n",
       "      <td>170.170</td>\n",
       "      <td>1.2762</td>\n",
       "      <td>1.0</td>\n",
       "      <td>3.0</td>\n",
       "      <td>40000000.0</td>\n",
       "    </tr>\n",
       "  </tbody>\n",
       "</table>\n",
       "</div>"
      ],
      "text/plain": [
       "   molecule_chembl_id                             canonical_smiles  \\\n",
       "0        CHEMBL463210             CCOP(=S)(OCC)Oc1nc(Cl)c(Cl)cc1Cl   \n",
       "1       CHEMBL2252723  CCOP(=O)(OCC)SCCCCCCCCCCN1C(=O)c2ccccc2C1=O   \n",
       "2       CHEMBL2252722   CCOP(=O)(OCC)SCCCCCCCCCN1C(=O)c2ccccc2C1=O   \n",
       "3       CHEMBL2252721    CCOP(=O)(OCC)SCCCCCCCCN1C(=O)c2ccccc2C1=O   \n",
       "4       CHEMBL2252851     CCOP(=O)(OCC)SCCCCCCCN1C(=O)c2ccccc2C1=O   \n",
       "5       CHEMBL2252850      CCOP(=O)(OCC)SCCCCCCN1C(=O)c2ccccc2C1=O   \n",
       "6       CHEMBL2252849       CCOP(=O)(OCC)SCCCCCN1C(=O)c2ccccc2C1=O   \n",
       "7       CHEMBL2252848        CCOP(=O)(OCC)SCCCCN1C(=O)c2ccccc2C1=O   \n",
       "8       CHEMBL2252847         CCOP(=O)(OCC)SCCCN1C(=O)c2ccccc2C1=O   \n",
       "9       CHEMBL2252846       CCOP(=O)(OCC)SCCCCCCCCCCSP(=O)(OCC)OCC   \n",
       "10      CHEMBL2252845        CCOP(=O)(OCC)SCCCCCCCCCSP(=O)(OCC)OCC   \n",
       "11      CHEMBL2252844         CCOP(=O)(OCC)SCCCCCCCCSP(=O)(OCC)OCC   \n",
       "12      CHEMBL2252843          CCOP(=O)(OCC)SCCCCCCCSP(=O)(OCC)OCC   \n",
       "13      CHEMBL2252842           CCOP(=O)(OCC)SCCCCCCSP(=O)(OCC)OCC   \n",
       "14      CHEMBL2252841            CCOP(=O)(OCC)SCCCCCSP(=O)(OCC)OCC   \n",
       "15      CHEMBL2252840             CCOP(=O)(OCC)SCCCCSP(=O)(OCC)OCC   \n",
       "16      CHEMBL2252724              CCOP(=O)(OCC)SCCCSP(=O)(OCC)OCC   \n",
       "17      CHEMBL1232328                               CCOP(O)(=S)OCC   \n",
       "\n",
       "           class       MW    LogP  NumHDonors  NumHAcceptors  \\\n",
       "0   intermediate  350.591  4.7181         0.0            5.0   \n",
       "1       inactive  455.557  6.3177         0.0            6.0   \n",
       "2       inactive  441.530  5.9276         0.0            6.0   \n",
       "3   intermediate  427.503  5.5375         0.0            6.0   \n",
       "4   intermediate  413.476  5.1474         0.0            6.0   \n",
       "5   intermediate  399.449  4.7573         0.0            6.0   \n",
       "6       inactive  385.422  4.3672         0.0            6.0   \n",
       "7   intermediate  371.395  3.9771         0.0            6.0   \n",
       "8   intermediate  357.368  3.5870         0.0            6.0   \n",
       "9   intermediate  478.594  7.9358         0.0            8.0   \n",
       "10  intermediate  464.567  7.5457         0.0            8.0   \n",
       "11  intermediate  450.540  7.1556         0.0            8.0   \n",
       "12      inactive  436.513  6.7655         0.0            8.0   \n",
       "13        active  422.486  6.3754         0.0            8.0   \n",
       "14      inactive  408.459  5.9853         0.0            8.0   \n",
       "15  intermediate  394.432  5.5952         0.0            8.0   \n",
       "16  intermediate  380.405  5.2051         0.0            8.0   \n",
       "17      inactive  170.170  1.2762         1.0            3.0   \n",
       "\n",
       "    standard_value_norm  \n",
       "0                1830.0  \n",
       "1              112720.0  \n",
       "2               37500.0  \n",
       "3                4500.0  \n",
       "4                1840.0  \n",
       "5                3810.0  \n",
       "6               12340.0  \n",
       "7                9920.0  \n",
       "8                8290.0  \n",
       "9                1760.0  \n",
       "10               1430.0  \n",
       "11               4840.0  \n",
       "12              10200.0  \n",
       "13                870.0  \n",
       "14              12340.0  \n",
       "15               8070.0  \n",
       "16               1640.0  \n",
       "17           40000000.0  "
      ]
     },
     "execution_count": 30,
     "metadata": {},
     "output_type": "execute_result"
    }
   ],
   "source": [
    "df_norm = norm_value(df_combined)\n",
    "df_norm"
   ]
  },
  {
   "cell_type": "code",
   "execution_count": 31,
   "metadata": {
    "colab": {
     "base_uri": "https://localhost:8080/",
     "height": 170
    },
    "colab_type": "code",
    "id": "hb1eKrIjRiH9",
    "outputId": "8435d28b-9774-4567-8134-51bfc3fc8271"
   },
   "outputs": [
    {
     "data": {
      "text/plain": [
       "count    1.800000e+01\n",
       "mean     2.235217e+06\n",
       "std      9.424884e+06\n",
       "min      8.700000e+02\n",
       "25%      1.832500e+03\n",
       "50%      6.455000e+03\n",
       "75%      1.180500e+04\n",
       "max      4.000000e+07\n",
       "Name: standard_value_norm, dtype: float64"
      ]
     },
     "execution_count": 31,
     "metadata": {},
     "output_type": "execute_result"
    }
   ],
   "source": [
    "df_norm.standard_value_norm.describe()"
   ]
  },
  {
   "cell_type": "code",
   "execution_count": 32,
   "metadata": {
    "colab": {
     "base_uri": "https://localhost:8080/",
     "height": 419
    },
    "colab_type": "code",
    "id": "UDKZzmK57YnS",
    "outputId": "89ec9de3-c71e-44fb-86a5-3b4172cf9e63"
   },
   "outputs": [
    {
     "data": {
      "text/html": [
       "<div>\n",
       "<style scoped>\n",
       "    .dataframe tbody tr th:only-of-type {\n",
       "        vertical-align: middle;\n",
       "    }\n",
       "\n",
       "    .dataframe tbody tr th {\n",
       "        vertical-align: top;\n",
       "    }\n",
       "\n",
       "    .dataframe thead th {\n",
       "        text-align: right;\n",
       "    }\n",
       "</style>\n",
       "<table border=\"1\" class=\"dataframe\">\n",
       "  <thead>\n",
       "    <tr style=\"text-align: right;\">\n",
       "      <th></th>\n",
       "      <th>molecule_chembl_id</th>\n",
       "      <th>canonical_smiles</th>\n",
       "      <th>class</th>\n",
       "      <th>MW</th>\n",
       "      <th>LogP</th>\n",
       "      <th>NumHDonors</th>\n",
       "      <th>NumHAcceptors</th>\n",
       "      <th>pIC50</th>\n",
       "    </tr>\n",
       "  </thead>\n",
       "  <tbody>\n",
       "    <tr>\n",
       "      <th>0</th>\n",
       "      <td>CHEMBL463210</td>\n",
       "      <td>CCOP(=S)(OCC)Oc1nc(Cl)c(Cl)cc1Cl</td>\n",
       "      <td>intermediate</td>\n",
       "      <td>350.591</td>\n",
       "      <td>4.7181</td>\n",
       "      <td>0.0</td>\n",
       "      <td>5.0</td>\n",
       "      <td>5.737549</td>\n",
       "    </tr>\n",
       "    <tr>\n",
       "      <th>1</th>\n",
       "      <td>CHEMBL2252723</td>\n",
       "      <td>CCOP(=O)(OCC)SCCCCCCCCCCN1C(=O)c2ccccc2C1=O</td>\n",
       "      <td>inactive</td>\n",
       "      <td>455.557</td>\n",
       "      <td>6.3177</td>\n",
       "      <td>0.0</td>\n",
       "      <td>6.0</td>\n",
       "      <td>3.947999</td>\n",
       "    </tr>\n",
       "    <tr>\n",
       "      <th>2</th>\n",
       "      <td>CHEMBL2252722</td>\n",
       "      <td>CCOP(=O)(OCC)SCCCCCCCCCN1C(=O)c2ccccc2C1=O</td>\n",
       "      <td>inactive</td>\n",
       "      <td>441.530</td>\n",
       "      <td>5.9276</td>\n",
       "      <td>0.0</td>\n",
       "      <td>6.0</td>\n",
       "      <td>4.425969</td>\n",
       "    </tr>\n",
       "    <tr>\n",
       "      <th>3</th>\n",
       "      <td>CHEMBL2252721</td>\n",
       "      <td>CCOP(=O)(OCC)SCCCCCCCCN1C(=O)c2ccccc2C1=O</td>\n",
       "      <td>intermediate</td>\n",
       "      <td>427.503</td>\n",
       "      <td>5.5375</td>\n",
       "      <td>0.0</td>\n",
       "      <td>6.0</td>\n",
       "      <td>5.346787</td>\n",
       "    </tr>\n",
       "    <tr>\n",
       "      <th>4</th>\n",
       "      <td>CHEMBL2252851</td>\n",
       "      <td>CCOP(=O)(OCC)SCCCCCCCN1C(=O)c2ccccc2C1=O</td>\n",
       "      <td>intermediate</td>\n",
       "      <td>413.476</td>\n",
       "      <td>5.1474</td>\n",
       "      <td>0.0</td>\n",
       "      <td>6.0</td>\n",
       "      <td>5.735182</td>\n",
       "    </tr>\n",
       "    <tr>\n",
       "      <th>5</th>\n",
       "      <td>CHEMBL2252850</td>\n",
       "      <td>CCOP(=O)(OCC)SCCCCCCN1C(=O)c2ccccc2C1=O</td>\n",
       "      <td>intermediate</td>\n",
       "      <td>399.449</td>\n",
       "      <td>4.7573</td>\n",
       "      <td>0.0</td>\n",
       "      <td>6.0</td>\n",
       "      <td>5.419075</td>\n",
       "    </tr>\n",
       "    <tr>\n",
       "      <th>6</th>\n",
       "      <td>CHEMBL2252849</td>\n",
       "      <td>CCOP(=O)(OCC)SCCCCCN1C(=O)c2ccccc2C1=O</td>\n",
       "      <td>inactive</td>\n",
       "      <td>385.422</td>\n",
       "      <td>4.3672</td>\n",
       "      <td>0.0</td>\n",
       "      <td>6.0</td>\n",
       "      <td>4.908685</td>\n",
       "    </tr>\n",
       "    <tr>\n",
       "      <th>7</th>\n",
       "      <td>CHEMBL2252848</td>\n",
       "      <td>CCOP(=O)(OCC)SCCCCN1C(=O)c2ccccc2C1=O</td>\n",
       "      <td>intermediate</td>\n",
       "      <td>371.395</td>\n",
       "      <td>3.9771</td>\n",
       "      <td>0.0</td>\n",
       "      <td>6.0</td>\n",
       "      <td>5.003488</td>\n",
       "    </tr>\n",
       "    <tr>\n",
       "      <th>8</th>\n",
       "      <td>CHEMBL2252847</td>\n",
       "      <td>CCOP(=O)(OCC)SCCCN1C(=O)c2ccccc2C1=O</td>\n",
       "      <td>intermediate</td>\n",
       "      <td>357.368</td>\n",
       "      <td>3.5870</td>\n",
       "      <td>0.0</td>\n",
       "      <td>6.0</td>\n",
       "      <td>5.081445</td>\n",
       "    </tr>\n",
       "    <tr>\n",
       "      <th>9</th>\n",
       "      <td>CHEMBL2252846</td>\n",
       "      <td>CCOP(=O)(OCC)SCCCCCCCCCCSP(=O)(OCC)OCC</td>\n",
       "      <td>intermediate</td>\n",
       "      <td>478.594</td>\n",
       "      <td>7.9358</td>\n",
       "      <td>0.0</td>\n",
       "      <td>8.0</td>\n",
       "      <td>5.754487</td>\n",
       "    </tr>\n",
       "    <tr>\n",
       "      <th>10</th>\n",
       "      <td>CHEMBL2252845</td>\n",
       "      <td>CCOP(=O)(OCC)SCCCCCCCCCSP(=O)(OCC)OCC</td>\n",
       "      <td>intermediate</td>\n",
       "      <td>464.567</td>\n",
       "      <td>7.5457</td>\n",
       "      <td>0.0</td>\n",
       "      <td>8.0</td>\n",
       "      <td>5.844664</td>\n",
       "    </tr>\n",
       "    <tr>\n",
       "      <th>11</th>\n",
       "      <td>CHEMBL2252844</td>\n",
       "      <td>CCOP(=O)(OCC)SCCCCCCCCSP(=O)(OCC)OCC</td>\n",
       "      <td>intermediate</td>\n",
       "      <td>450.540</td>\n",
       "      <td>7.1556</td>\n",
       "      <td>0.0</td>\n",
       "      <td>8.0</td>\n",
       "      <td>5.315155</td>\n",
       "    </tr>\n",
       "    <tr>\n",
       "      <th>12</th>\n",
       "      <td>CHEMBL2252843</td>\n",
       "      <td>CCOP(=O)(OCC)SCCCCCCCSP(=O)(OCC)OCC</td>\n",
       "      <td>inactive</td>\n",
       "      <td>436.513</td>\n",
       "      <td>6.7655</td>\n",
       "      <td>0.0</td>\n",
       "      <td>8.0</td>\n",
       "      <td>4.991400</td>\n",
       "    </tr>\n",
       "    <tr>\n",
       "      <th>13</th>\n",
       "      <td>CHEMBL2252842</td>\n",
       "      <td>CCOP(=O)(OCC)SCCCCCCSP(=O)(OCC)OCC</td>\n",
       "      <td>active</td>\n",
       "      <td>422.486</td>\n",
       "      <td>6.3754</td>\n",
       "      <td>0.0</td>\n",
       "      <td>8.0</td>\n",
       "      <td>6.060481</td>\n",
       "    </tr>\n",
       "    <tr>\n",
       "      <th>14</th>\n",
       "      <td>CHEMBL2252841</td>\n",
       "      <td>CCOP(=O)(OCC)SCCCCCSP(=O)(OCC)OCC</td>\n",
       "      <td>inactive</td>\n",
       "      <td>408.459</td>\n",
       "      <td>5.9853</td>\n",
       "      <td>0.0</td>\n",
       "      <td>8.0</td>\n",
       "      <td>4.908685</td>\n",
       "    </tr>\n",
       "    <tr>\n",
       "      <th>15</th>\n",
       "      <td>CHEMBL2252840</td>\n",
       "      <td>CCOP(=O)(OCC)SCCCCSP(=O)(OCC)OCC</td>\n",
       "      <td>intermediate</td>\n",
       "      <td>394.432</td>\n",
       "      <td>5.5952</td>\n",
       "      <td>0.0</td>\n",
       "      <td>8.0</td>\n",
       "      <td>5.093126</td>\n",
       "    </tr>\n",
       "    <tr>\n",
       "      <th>16</th>\n",
       "      <td>CHEMBL2252724</td>\n",
       "      <td>CCOP(=O)(OCC)SCCCSP(=O)(OCC)OCC</td>\n",
       "      <td>intermediate</td>\n",
       "      <td>380.405</td>\n",
       "      <td>5.2051</td>\n",
       "      <td>0.0</td>\n",
       "      <td>8.0</td>\n",
       "      <td>5.785156</td>\n",
       "    </tr>\n",
       "    <tr>\n",
       "      <th>17</th>\n",
       "      <td>CHEMBL1232328</td>\n",
       "      <td>CCOP(O)(=S)OCC</td>\n",
       "      <td>inactive</td>\n",
       "      <td>170.170</td>\n",
       "      <td>1.2762</td>\n",
       "      <td>1.0</td>\n",
       "      <td>3.0</td>\n",
       "      <td>1.397940</td>\n",
       "    </tr>\n",
       "  </tbody>\n",
       "</table>\n",
       "</div>"
      ],
      "text/plain": [
       "   molecule_chembl_id                             canonical_smiles  \\\n",
       "0        CHEMBL463210             CCOP(=S)(OCC)Oc1nc(Cl)c(Cl)cc1Cl   \n",
       "1       CHEMBL2252723  CCOP(=O)(OCC)SCCCCCCCCCCN1C(=O)c2ccccc2C1=O   \n",
       "2       CHEMBL2252722   CCOP(=O)(OCC)SCCCCCCCCCN1C(=O)c2ccccc2C1=O   \n",
       "3       CHEMBL2252721    CCOP(=O)(OCC)SCCCCCCCCN1C(=O)c2ccccc2C1=O   \n",
       "4       CHEMBL2252851     CCOP(=O)(OCC)SCCCCCCCN1C(=O)c2ccccc2C1=O   \n",
       "5       CHEMBL2252850      CCOP(=O)(OCC)SCCCCCCN1C(=O)c2ccccc2C1=O   \n",
       "6       CHEMBL2252849       CCOP(=O)(OCC)SCCCCCN1C(=O)c2ccccc2C1=O   \n",
       "7       CHEMBL2252848        CCOP(=O)(OCC)SCCCCN1C(=O)c2ccccc2C1=O   \n",
       "8       CHEMBL2252847         CCOP(=O)(OCC)SCCCN1C(=O)c2ccccc2C1=O   \n",
       "9       CHEMBL2252846       CCOP(=O)(OCC)SCCCCCCCCCCSP(=O)(OCC)OCC   \n",
       "10      CHEMBL2252845        CCOP(=O)(OCC)SCCCCCCCCCSP(=O)(OCC)OCC   \n",
       "11      CHEMBL2252844         CCOP(=O)(OCC)SCCCCCCCCSP(=O)(OCC)OCC   \n",
       "12      CHEMBL2252843          CCOP(=O)(OCC)SCCCCCCCSP(=O)(OCC)OCC   \n",
       "13      CHEMBL2252842           CCOP(=O)(OCC)SCCCCCCSP(=O)(OCC)OCC   \n",
       "14      CHEMBL2252841            CCOP(=O)(OCC)SCCCCCSP(=O)(OCC)OCC   \n",
       "15      CHEMBL2252840             CCOP(=O)(OCC)SCCCCSP(=O)(OCC)OCC   \n",
       "16      CHEMBL2252724              CCOP(=O)(OCC)SCCCSP(=O)(OCC)OCC   \n",
       "17      CHEMBL1232328                               CCOP(O)(=S)OCC   \n",
       "\n",
       "           class       MW    LogP  NumHDonors  NumHAcceptors     pIC50  \n",
       "0   intermediate  350.591  4.7181         0.0            5.0  5.737549  \n",
       "1       inactive  455.557  6.3177         0.0            6.0  3.947999  \n",
       "2       inactive  441.530  5.9276         0.0            6.0  4.425969  \n",
       "3   intermediate  427.503  5.5375         0.0            6.0  5.346787  \n",
       "4   intermediate  413.476  5.1474         0.0            6.0  5.735182  \n",
       "5   intermediate  399.449  4.7573         0.0            6.0  5.419075  \n",
       "6       inactive  385.422  4.3672         0.0            6.0  4.908685  \n",
       "7   intermediate  371.395  3.9771         0.0            6.0  5.003488  \n",
       "8   intermediate  357.368  3.5870         0.0            6.0  5.081445  \n",
       "9   intermediate  478.594  7.9358         0.0            8.0  5.754487  \n",
       "10  intermediate  464.567  7.5457         0.0            8.0  5.844664  \n",
       "11  intermediate  450.540  7.1556         0.0            8.0  5.315155  \n",
       "12      inactive  436.513  6.7655         0.0            8.0  4.991400  \n",
       "13        active  422.486  6.3754         0.0            8.0  6.060481  \n",
       "14      inactive  408.459  5.9853         0.0            8.0  4.908685  \n",
       "15  intermediate  394.432  5.5952         0.0            8.0  5.093126  \n",
       "16  intermediate  380.405  5.2051         0.0            8.0  5.785156  \n",
       "17      inactive  170.170  1.2762         1.0            3.0  1.397940  "
      ]
     },
     "execution_count": 32,
     "metadata": {},
     "output_type": "execute_result"
    }
   ],
   "source": [
    "df_final = pIC50(df_norm)\n",
    "df_final"
   ]
  },
  {
   "cell_type": "code",
   "execution_count": 33,
   "metadata": {
    "colab": {
     "base_uri": "https://localhost:8080/",
     "height": 170
    },
    "colab_type": "code",
    "id": "BoqY53udSTYC",
    "outputId": "13f3b5ff-acf5-4136-b8a3-f494066d4824"
   },
   "outputs": [
    {
     "data": {
      "text/plain": [
       "count    18.000000\n",
       "mean      5.042071\n",
       "std       1.054814\n",
       "min       1.397940\n",
       "25%       4.929364\n",
       "50%       5.204141\n",
       "75%       5.736957\n",
       "max       6.060481\n",
       "Name: pIC50, dtype: float64"
      ]
     },
     "execution_count": 33,
     "metadata": {},
     "output_type": "execute_result"
    }
   ],
   "source": [
    "df_final.pIC50.describe()"
   ]
  },
  {
   "cell_type": "markdown",
   "metadata": {
    "colab_type": "text",
    "id": "TTB-xkOcgwRX"
   },
   "source": [
    "Let's write this to CSV file."
   ]
  },
  {
   "cell_type": "code",
   "execution_count": 34,
   "metadata": {
    "colab": {},
    "colab_type": "code",
    "id": "sbZfHUSOgykw"
   },
   "outputs": [],
   "source": [
    "df_final.to_csv('acetylcholinesterase_04_bioactivity_data_3class_pIC50.csv')"
   ]
  },
  {
   "cell_type": "markdown",
   "metadata": {
    "colab_type": "text",
    "id": "05vHBWvqaQtb"
   },
   "source": [
    "### **Removing the 'intermediate' bioactivity class**\n",
    "Here, we will be removing the ``intermediate`` class from our data set."
   ]
  },
  {
   "cell_type": "code",
   "execution_count": 35,
   "metadata": {
    "colab": {
     "base_uri": "https://localhost:8080/",
     "height": 419
    },
    "colab_type": "code",
    "id": "HmrndhDW3c7Z",
    "outputId": "dbc2255b-ed9c-460c-c12c-1795a735c9e7"
   },
   "outputs": [
    {
     "data": {
      "text/html": [
       "<div>\n",
       "<style scoped>\n",
       "    .dataframe tbody tr th:only-of-type {\n",
       "        vertical-align: middle;\n",
       "    }\n",
       "\n",
       "    .dataframe tbody tr th {\n",
       "        vertical-align: top;\n",
       "    }\n",
       "\n",
       "    .dataframe thead th {\n",
       "        text-align: right;\n",
       "    }\n",
       "</style>\n",
       "<table border=\"1\" class=\"dataframe\">\n",
       "  <thead>\n",
       "    <tr style=\"text-align: right;\">\n",
       "      <th></th>\n",
       "      <th>molecule_chembl_id</th>\n",
       "      <th>canonical_smiles</th>\n",
       "      <th>class</th>\n",
       "      <th>MW</th>\n",
       "      <th>LogP</th>\n",
       "      <th>NumHDonors</th>\n",
       "      <th>NumHAcceptors</th>\n",
       "      <th>pIC50</th>\n",
       "    </tr>\n",
       "  </thead>\n",
       "  <tbody>\n",
       "    <tr>\n",
       "      <th>1</th>\n",
       "      <td>CHEMBL2252723</td>\n",
       "      <td>CCOP(=O)(OCC)SCCCCCCCCCCN1C(=O)c2ccccc2C1=O</td>\n",
       "      <td>inactive</td>\n",
       "      <td>455.557</td>\n",
       "      <td>6.3177</td>\n",
       "      <td>0.0</td>\n",
       "      <td>6.0</td>\n",
       "      <td>3.947999</td>\n",
       "    </tr>\n",
       "    <tr>\n",
       "      <th>2</th>\n",
       "      <td>CHEMBL2252722</td>\n",
       "      <td>CCOP(=O)(OCC)SCCCCCCCCCN1C(=O)c2ccccc2C1=O</td>\n",
       "      <td>inactive</td>\n",
       "      <td>441.530</td>\n",
       "      <td>5.9276</td>\n",
       "      <td>0.0</td>\n",
       "      <td>6.0</td>\n",
       "      <td>4.425969</td>\n",
       "    </tr>\n",
       "    <tr>\n",
       "      <th>6</th>\n",
       "      <td>CHEMBL2252849</td>\n",
       "      <td>CCOP(=O)(OCC)SCCCCCN1C(=O)c2ccccc2C1=O</td>\n",
       "      <td>inactive</td>\n",
       "      <td>385.422</td>\n",
       "      <td>4.3672</td>\n",
       "      <td>0.0</td>\n",
       "      <td>6.0</td>\n",
       "      <td>4.908685</td>\n",
       "    </tr>\n",
       "    <tr>\n",
       "      <th>12</th>\n",
       "      <td>CHEMBL2252843</td>\n",
       "      <td>CCOP(=O)(OCC)SCCCCCCCSP(=O)(OCC)OCC</td>\n",
       "      <td>inactive</td>\n",
       "      <td>436.513</td>\n",
       "      <td>6.7655</td>\n",
       "      <td>0.0</td>\n",
       "      <td>8.0</td>\n",
       "      <td>4.991400</td>\n",
       "    </tr>\n",
       "    <tr>\n",
       "      <th>13</th>\n",
       "      <td>CHEMBL2252842</td>\n",
       "      <td>CCOP(=O)(OCC)SCCCCCCSP(=O)(OCC)OCC</td>\n",
       "      <td>active</td>\n",
       "      <td>422.486</td>\n",
       "      <td>6.3754</td>\n",
       "      <td>0.0</td>\n",
       "      <td>8.0</td>\n",
       "      <td>6.060481</td>\n",
       "    </tr>\n",
       "    <tr>\n",
       "      <th>14</th>\n",
       "      <td>CHEMBL2252841</td>\n",
       "      <td>CCOP(=O)(OCC)SCCCCCSP(=O)(OCC)OCC</td>\n",
       "      <td>inactive</td>\n",
       "      <td>408.459</td>\n",
       "      <td>5.9853</td>\n",
       "      <td>0.0</td>\n",
       "      <td>8.0</td>\n",
       "      <td>4.908685</td>\n",
       "    </tr>\n",
       "    <tr>\n",
       "      <th>17</th>\n",
       "      <td>CHEMBL1232328</td>\n",
       "      <td>CCOP(O)(=S)OCC</td>\n",
       "      <td>inactive</td>\n",
       "      <td>170.170</td>\n",
       "      <td>1.2762</td>\n",
       "      <td>1.0</td>\n",
       "      <td>3.0</td>\n",
       "      <td>1.397940</td>\n",
       "    </tr>\n",
       "  </tbody>\n",
       "</table>\n",
       "</div>"
      ],
      "text/plain": [
       "   molecule_chembl_id                             canonical_smiles     class  \\\n",
       "1       CHEMBL2252723  CCOP(=O)(OCC)SCCCCCCCCCCN1C(=O)c2ccccc2C1=O  inactive   \n",
       "2       CHEMBL2252722   CCOP(=O)(OCC)SCCCCCCCCCN1C(=O)c2ccccc2C1=O  inactive   \n",
       "6       CHEMBL2252849       CCOP(=O)(OCC)SCCCCCN1C(=O)c2ccccc2C1=O  inactive   \n",
       "12      CHEMBL2252843          CCOP(=O)(OCC)SCCCCCCCSP(=O)(OCC)OCC  inactive   \n",
       "13      CHEMBL2252842           CCOP(=O)(OCC)SCCCCCCSP(=O)(OCC)OCC    active   \n",
       "14      CHEMBL2252841            CCOP(=O)(OCC)SCCCCCSP(=O)(OCC)OCC  inactive   \n",
       "17      CHEMBL1232328                               CCOP(O)(=S)OCC  inactive   \n",
       "\n",
       "         MW    LogP  NumHDonors  NumHAcceptors     pIC50  \n",
       "1   455.557  6.3177         0.0            6.0  3.947999  \n",
       "2   441.530  5.9276         0.0            6.0  4.425969  \n",
       "6   385.422  4.3672         0.0            6.0  4.908685  \n",
       "12  436.513  6.7655         0.0            8.0  4.991400  \n",
       "13  422.486  6.3754         0.0            8.0  6.060481  \n",
       "14  408.459  5.9853         0.0            8.0  4.908685  \n",
       "17  170.170  1.2762         1.0            3.0  1.397940  "
      ]
     },
     "execution_count": 35,
     "metadata": {},
     "output_type": "execute_result"
    }
   ],
   "source": [
    "df_2class = df_final[df_final['class'] != 'intermediate']\n",
    "df_2class"
   ]
  },
  {
   "cell_type": "markdown",
   "metadata": {
    "colab_type": "text",
    "id": "GJGRNXXigd1o"
   },
   "source": [
    "Let's write this to CSV file."
   ]
  },
  {
   "cell_type": "code",
   "execution_count": 36,
   "metadata": {
    "colab": {},
    "colab_type": "code",
    "id": "XIiYdeL5ghCo"
   },
   "outputs": [],
   "source": [
    "df_2class.to_csv('acetylcholinesterase_05_bioactivity_data_2class_pIC50.csv')"
   ]
  },
  {
   "cell_type": "markdown",
   "metadata": {
    "colab_type": "text",
    "id": "p9vA4-hQQ8sA"
   },
   "source": [
    "---"
   ]
  },
  {
   "cell_type": "markdown",
   "metadata": {
    "colab_type": "text",
    "id": "x0vqbQWfxsZu"
   },
   "source": [
    "## **Exploratory Data Analysis (Chemical Space Analysis) via Lipinski descriptors**"
   ]
  },
  {
   "cell_type": "markdown",
   "metadata": {
    "colab_type": "text",
    "id": "18heJagiyHoF"
   },
   "source": [
    "### **Import library**"
   ]
  },
  {
   "cell_type": "code",
   "execution_count": 40,
   "metadata": {
    "colab": {
     "base_uri": "https://localhost:8080/",
     "height": 51
    },
    "colab_type": "code",
    "id": "0Egq_rNsxtIj",
    "outputId": "33657ad8-3fcc-41cd-83ab-6f4f8c0a9e84"
   },
   "outputs": [],
   "source": [
    "import seaborn as sns\n",
    "sns.set(style='ticks')\n",
    "import matplotlib.pyplot as plt"
   ]
  },
  {
   "cell_type": "markdown",
   "metadata": {
    "colab_type": "text",
    "id": "NiarmFbOdG3H"
   },
   "source": [
    "### **Frequency plot of the 2 bioactivity classes**"
   ]
  },
  {
   "cell_type": "code",
   "execution_count": 41,
   "metadata": {
    "colab": {
     "base_uri": "https://localhost:8080/",
     "height": 367
    },
    "colab_type": "code",
    "id": "w2Ia0iycdMO2",
    "outputId": "fa37bcfd-af06-4e4b-c754-b6fb2b1b4f97"
   },
   "outputs": [
    {
     "data": {
      "image/png": "[encoded data removed]",
      "text/plain": [
       "<Figure size 550x550 with 1 Axes>"
      ]
     },
     "metadata": {},
     "output_type": "display_data"
    }
   ],
   "source": [
    "plt.figure(figsize=(5.5, 5.5))\n",
    "\n",
    "sns.countplot(x='class', data=df_2class, edgecolor='black')\n",
    "\n",
    "plt.xlabel('Bioactivity class', fontsize=14, fontweight='bold')\n",
    "plt.ylabel('Frequency', fontsize=14, fontweight='bold')\n",
    "\n",
    "plt.savefig('plot_bioactivity_class.pdf')"
   ]
  },
  {
   "cell_type": "markdown",
   "metadata": {
    "colab_type": "text",
    "id": "wB68NKVG0j68"
   },
   "source": [
    "### **Scatter plot of MW versus LogP**\n",
    "\n",
    "It can be seen that the 2 bioactivity classes are spanning similar chemical spaces as evident by the scatter plot of MW vs LogP."
   ]
  },
  {
   "cell_type": "code",
   "execution_count": 47,
   "metadata": {
    "colab": {
     "base_uri": "https://localhost:8080/",
     "height": 367
    },
    "colab_type": "code",
    "id": "F79BNwjF0nub",
    "outputId": "a80f9843-848a-4eb0-ff78-e9473d5d2d4b"
   },
   "outputs": [
    {
     "data": {
      "image/png": "[encoded data removed]",
      "text/plain": [
       "<Figure size 550x550 with 1 Axes>"
      ]
     },
     "metadata": {},
     "output_type": "display_data"
    }
   ],
   "source": [
    "plt.figure(figsize=(5.5, 5.5))\n",
    "\n",
    "sns.scatterplot(x='MW', y='LogP', data=df_2class, hue='class', size='pIC50', edgecolor='black', alpha=0.7)\n",
    "\n",
    "plt.xlabel('MW', fontsize=14, fontweight='bold')\n",
    "plt.ylabel('LogP', fontsize=14, fontweight='bold')\n",
    "plt.legend(bbox_to_anchor=(1.05, 1), loc=2, borderaxespad=0)\n",
    "plt.savefig('plot_MW_vs_LogP.pdf')"
   ]
  },
  {
   "cell_type": "markdown",
   "metadata": {
    "colab_type": "text",
    "id": "oLAfyRwHyJfX"
   },
   "source": [
    "### **Box plots**"
   ]
  },
  {
   "cell_type": "markdown",
   "metadata": {
    "colab_type": "text",
    "id": "1n1uIAivyOkY"
   },
   "source": [
    "#### **pIC50 value**"
   ]
  },
  {
   "cell_type": "code",
   "execution_count": 48,
   "metadata": {
    "colab": {
     "base_uri": "https://localhost:8080/",
     "height": 367
    },
    "colab_type": "code",
    "id": "EpPviw0hxue6",
    "outputId": "a6386fee-ae04-4bf0-93cb-c95bcf801432"
   },
   "outputs": [
    {
     "data": {
      "image/png": "[encoded data removed]",
      "text/plain": [
       "<Figure size 550x550 with 1 Axes>"
      ]
     },
     "metadata": {},
     "output_type": "display_data"
    }
   ],
   "source": [
    "plt.figure(figsize=(5.5, 5.5))\n",
    "\n",
    "sns.boxplot(x = 'class', y = 'pIC50', data = df_2class)\n",
    "\n",
    "plt.xlabel('Bioactivity class', fontsize=14, fontweight='bold')\n",
    "plt.ylabel('pIC50 value', fontsize=14, fontweight='bold')\n",
    "\n",
    "plt.savefig('plot_ic50.pdf')"
   ]
  },
  {
   "cell_type": "markdown",
   "metadata": {
    "colab_type": "text",
    "id": "PsOqKyysCZCv"
   },
   "source": [
    "**Statistical analysis | Mann-Whitney U Test**"
   ]
  },
  {
   "cell_type": "code",
   "execution_count": 50,
   "metadata": {
    "colab": {},
    "colab_type": "code",
    "id": "LPdV1vDnWBsh"
   },
   "outputs": [],
   "source": [
    "def mannwhitney(descriptor, verbose=False):\n",
    "  # https://machinelearningmastery.com/nonparametric-statistical-significance-tests-in-python/\n",
    "  from numpy.random import seed\n",
    "  from numpy.random import randn\n",
    "  from scipy.stats import mannwhitneyu\n",
    "\n",
    "# seed the random number generator\n",
    "  seed(1)\n",
    "\n",
    "# actives and inactives\n",
    "  selection = [descriptor, 'class']\n",
    "  df = df_2class[selection]\n",
    "  active = df[df['class'] == 'active']\n",
    "  active = active[descriptor]\n",
    "\n",
    "  selection = [descriptor, 'class']\n",
    "  df = df_2class[selection]\n",
    "  inactive = df[df['class'] == 'inactive']\n",
    "  inactive = inactive[descriptor]\n",
    "\n",
    "# compare samples\n",
    "  stat, p = mannwhitneyu(active, inactive)\n",
    "  #print('Statistics=%.3f, p=%.3f' % (stat, p))\n",
    "\n",
    "# interpret\n",
    "  alpha = 0.05\n",
    "  if p > alpha:\n",
    "    interpretation = 'Same distribution (fail to reject H0)'\n",
    "  else:\n",
    "    interpretation = 'Different distribution (reject H0)'\n",
    "  \n",
    "  results = pd.DataFrame({'Descriptor':descriptor,\n",
    "                          'Statistics':stat,\n",
    "                          'p':p,\n",
    "                          'alpha':alpha,\n",
    "                          'Interpretation':interpretation}, index=[0])\n",
    "  filename = 'mannwhitneyu_' + descriptor + '.csv'\n",
    "  results.to_csv(filename)\n",
    "\n",
    "  return results"
   ]
  },
  {
   "cell_type": "code",
   "execution_count": 46,
   "metadata": {
    "colab": {
     "base_uri": "https://localhost:8080/",
     "height": 80
    },
    "colab_type": "code",
    "id": "HZmUgOmdYVm5",
    "outputId": "3a9ba656-596c-434a-e52f-5696325cd4e7"
   },
   "outputs": [
    {
     "ename": "ImportError",
     "evalue": "cannot import name '_center' from 'numpy._core.umath' (/opt/anaconda3/envs/bioinfo/lib/python3.10/site-packages/numpy/_core/umath.py)",
     "output_type": "error",
     "traceback": [
      "\u001b[0;31m---------------------------------------------------------------------------\u001b[0m",
      "\u001b[0;31mImportError\u001b[0m                               Traceback (most recent call last)",
      "Cell \u001b[0;32mIn[46], line 1\u001b[0m\n\u001b[0;32m----> 1\u001b[0m \u001b[43mmannwhitney\u001b[49m\u001b[43m(\u001b[49m\u001b[38;5;124;43m'\u001b[39;49m\u001b[38;5;124;43mpIC50\u001b[39;49m\u001b[38;5;124;43m'\u001b[39;49m\u001b[43m)\u001b[49m\n",
      "Cell \u001b[0;32mIn[44], line 5\u001b[0m, in \u001b[0;36mmannwhitney\u001b[0;34m(descriptor, verbose)\u001b[0m\n\u001b[1;32m      3\u001b[0m   \u001b[38;5;28;01mfrom\u001b[39;00m\u001b[38;5;250m \u001b[39m\u001b[38;5;21;01mnumpy\u001b[39;00m\u001b[38;5;21;01m.\u001b[39;00m\u001b[38;5;21;01mrandom\u001b[39;00m\u001b[38;5;250m \u001b[39m\u001b[38;5;28;01mimport\u001b[39;00m seed\n\u001b[1;32m      4\u001b[0m   \u001b[38;5;28;01mfrom\u001b[39;00m\u001b[38;5;250m \u001b[39m\u001b[38;5;21;01mnumpy\u001b[39;00m\u001b[38;5;21;01m.\u001b[39;00m\u001b[38;5;21;01mrandom\u001b[39;00m\u001b[38;5;250m \u001b[39m\u001b[38;5;28;01mimport\u001b[39;00m randn\n\u001b[0;32m----> 5\u001b[0m   \u001b[38;5;28;01mfrom\u001b[39;00m\u001b[38;5;250m \u001b[39m\u001b[38;5;21;01mscipy\u001b[39;00m\u001b[38;5;21;01m.\u001b[39;00m\u001b[38;5;21;01mstats\u001b[39;00m\u001b[38;5;250m \u001b[39m\u001b[38;5;28;01mimport\u001b[39;00m mannwhitneyu\n\u001b[1;32m      7\u001b[0m \u001b[38;5;66;03m# seed the random number generator\u001b[39;00m\n\u001b[1;32m      8\u001b[0m   seed(\u001b[38;5;241m1\u001b[39m)\n",
      "File \u001b[0;32m/opt/anaconda3/envs/bioinfo/lib/python3.10/site-packages/scipy/stats/__init__.py:624\u001b[0m\n\u001b[1;32m      1\u001b[0m \u001b[38;5;124;03m\"\"\"\u001b[39;00m\n\u001b[1;32m      2\u001b[0m \u001b[38;5;124;03m.. _statsrefmanual:\u001b[39;00m\n\u001b[1;32m      3\u001b[0m \n\u001b[0;32m   (...)\u001b[0m\n\u001b[1;32m    619\u001b[0m \n\u001b[1;32m    620\u001b[0m \u001b[38;5;124;03m\"\"\"\u001b[39;00m  \u001b[38;5;66;03m# noqa: E501\u001b[39;00m\n\u001b[1;32m    622\u001b[0m \u001b[38;5;28;01mfrom\u001b[39;00m\u001b[38;5;250m \u001b[39m\u001b[38;5;21;01m.\u001b[39;00m\u001b[38;5;21;01m_warnings_errors\u001b[39;00m\u001b[38;5;250m \u001b[39m\u001b[38;5;28;01mimport\u001b[39;00m (ConstantInputWarning, NearConstantInputWarning,\n\u001b[1;32m    623\u001b[0m                                DegenerateDataWarning, FitError)\n\u001b[0;32m--> 624\u001b[0m \u001b[38;5;28;01mfrom\u001b[39;00m\u001b[38;5;250m \u001b[39m\u001b[38;5;21;01m.\u001b[39;00m\u001b[38;5;21;01m_stats_py\u001b[39;00m\u001b[38;5;250m \u001b[39m\u001b[38;5;28;01mimport\u001b[39;00m \u001b[38;5;241m*\u001b[39m\n\u001b[1;32m    625\u001b[0m \u001b[38;5;28;01mfrom\u001b[39;00m\u001b[38;5;250m \u001b[39m\u001b[38;5;21;01m.\u001b[39;00m\u001b[38;5;21;01m_variation\u001b[39;00m\u001b[38;5;250m \u001b[39m\u001b[38;5;28;01mimport\u001b[39;00m variation\n\u001b[1;32m    626\u001b[0m \u001b[38;5;28;01mfrom\u001b[39;00m\u001b[38;5;250m \u001b[39m\u001b[38;5;21;01m.\u001b[39;00m\u001b[38;5;21;01mdistributions\u001b[39;00m\u001b[38;5;250m \u001b[39m\u001b[38;5;28;01mimport\u001b[39;00m \u001b[38;5;241m*\u001b[39m\n",
      "File \u001b[0;32m/opt/anaconda3/envs/bioinfo/lib/python3.10/site-packages/scipy/stats/_stats_py.py:38\u001b[0m\n\u001b[1;32m     35\u001b[0m \u001b[38;5;28;01mimport\u001b[39;00m\u001b[38;5;250m \u001b[39m\u001b[38;5;21;01mnumpy\u001b[39;00m\u001b[38;5;250m \u001b[39m\u001b[38;5;28;01mas\u001b[39;00m\u001b[38;5;250m \u001b[39m\u001b[38;5;21;01mnp\u001b[39;00m\n\u001b[1;32m     36\u001b[0m \u001b[38;5;28;01mfrom\u001b[39;00m\u001b[38;5;250m \u001b[39m\u001b[38;5;21;01mnumpy\u001b[39;00m\u001b[38;5;250m \u001b[39m\u001b[38;5;28;01mimport\u001b[39;00m array, asarray, ma\n\u001b[0;32m---> 38\u001b[0m \u001b[38;5;28;01mfrom\u001b[39;00m\u001b[38;5;250m \u001b[39m\u001b[38;5;21;01mscipy\u001b[39;00m\u001b[38;5;250m \u001b[39m\u001b[38;5;28;01mimport\u001b[39;00m sparse\n\u001b[1;32m     39\u001b[0m \u001b[38;5;28;01mfrom\u001b[39;00m\u001b[38;5;250m \u001b[39m\u001b[38;5;21;01mscipy\u001b[39;00m\u001b[38;5;21;01m.\u001b[39;00m\u001b[38;5;21;01mspatial\u001b[39;00m\u001b[38;5;250m \u001b[39m\u001b[38;5;28;01mimport\u001b[39;00m distance_matrix\n\u001b[1;32m     41\u001b[0m \u001b[38;5;28;01mfrom\u001b[39;00m\u001b[38;5;250m \u001b[39m\u001b[38;5;21;01mscipy\u001b[39;00m\u001b[38;5;21;01m.\u001b[39;00m\u001b[38;5;21;01moptimize\u001b[39;00m\u001b[38;5;250m \u001b[39m\u001b[38;5;28;01mimport\u001b[39;00m milp, LinearConstraint\n",
      "File \u001b[0;32m/opt/anaconda3/envs/bioinfo/lib/python3.10/site-packages/scipy/__init__.py:134\u001b[0m, in \u001b[0;36m__getattr__\u001b[0;34m(name)\u001b[0m\n\u001b[1;32m    132\u001b[0m \u001b[38;5;28;01mdef\u001b[39;00m\u001b[38;5;250m \u001b[39m\u001b[38;5;21m__getattr__\u001b[39m(name):\n\u001b[1;32m    133\u001b[0m     \u001b[38;5;28;01mif\u001b[39;00m name \u001b[38;5;129;01min\u001b[39;00m submodules:\n\u001b[0;32m--> 134\u001b[0m         \u001b[38;5;28;01mreturn\u001b[39;00m \u001b[43m_importlib\u001b[49m\u001b[38;5;241;43m.\u001b[39;49m\u001b[43mimport_module\u001b[49m\u001b[43m(\u001b[49m\u001b[38;5;124;43mf\u001b[39;49m\u001b[38;5;124;43m'\u001b[39;49m\u001b[38;5;124;43mscipy.\u001b[39;49m\u001b[38;5;132;43;01m{\u001b[39;49;00m\u001b[43mname\u001b[49m\u001b[38;5;132;43;01m}\u001b[39;49;00m\u001b[38;5;124;43m'\u001b[39;49m\u001b[43m)\u001b[49m\n\u001b[1;32m    135\u001b[0m     \u001b[38;5;28;01melse\u001b[39;00m:\n\u001b[1;32m    136\u001b[0m         \u001b[38;5;28;01mtry\u001b[39;00m:\n",
      "File \u001b[0;32m/opt/anaconda3/envs/bioinfo/lib/python3.10/importlib/__init__.py:126\u001b[0m, in \u001b[0;36mimport_module\u001b[0;34m(name, package)\u001b[0m\n\u001b[1;32m    124\u001b[0m             \u001b[38;5;28;01mbreak\u001b[39;00m\n\u001b[1;32m    125\u001b[0m         level \u001b[38;5;241m+\u001b[39m\u001b[38;5;241m=\u001b[39m \u001b[38;5;241m1\u001b[39m\n\u001b[0;32m--> 126\u001b[0m \u001b[38;5;28;01mreturn\u001b[39;00m \u001b[43m_bootstrap\u001b[49m\u001b[38;5;241;43m.\u001b[39;49m\u001b[43m_gcd_import\u001b[49m\u001b[43m(\u001b[49m\u001b[43mname\u001b[49m\u001b[43m[\u001b[49m\u001b[43mlevel\u001b[49m\u001b[43m:\u001b[49m\u001b[43m]\u001b[49m\u001b[43m,\u001b[49m\u001b[43m \u001b[49m\u001b[43mpackage\u001b[49m\u001b[43m,\u001b[49m\u001b[43m \u001b[49m\u001b[43mlevel\u001b[49m\u001b[43m)\u001b[49m\n",
      "File \u001b[0;32m/opt/anaconda3/envs/bioinfo/lib/python3.10/site-packages/scipy/sparse/__init__.py:300\u001b[0m\n\u001b[1;32m    294\u001b[0m \u001b[38;5;66;03m# Original code by Travis Oliphant.\u001b[39;00m\n\u001b[1;32m    295\u001b[0m \u001b[38;5;66;03m# Modified and extended by Ed Schofield, Robert Cimrman,\u001b[39;00m\n\u001b[1;32m    296\u001b[0m \u001b[38;5;66;03m# Nathan Bell, and Jake Vanderplas.\u001b[39;00m\n\u001b[1;32m    298\u001b[0m \u001b[38;5;28;01mimport\u001b[39;00m\u001b[38;5;250m \u001b[39m\u001b[38;5;21;01mwarnings\u001b[39;00m\u001b[38;5;250m \u001b[39m\u001b[38;5;28;01mas\u001b[39;00m\u001b[38;5;250m \u001b[39m\u001b[38;5;21;01m_warnings\u001b[39;00m\n\u001b[0;32m--> 300\u001b[0m \u001b[38;5;28;01mfrom\u001b[39;00m\u001b[38;5;250m \u001b[39m\u001b[38;5;21;01m.\u001b[39;00m\u001b[38;5;21;01m_base\u001b[39;00m\u001b[38;5;250m \u001b[39m\u001b[38;5;28;01mimport\u001b[39;00m \u001b[38;5;241m*\u001b[39m\n\u001b[1;32m    301\u001b[0m \u001b[38;5;28;01mfrom\u001b[39;00m\u001b[38;5;250m \u001b[39m\u001b[38;5;21;01m.\u001b[39;00m\u001b[38;5;21;01m_csr\u001b[39;00m\u001b[38;5;250m \u001b[39m\u001b[38;5;28;01mimport\u001b[39;00m \u001b[38;5;241m*\u001b[39m\n\u001b[1;32m    302\u001b[0m \u001b[38;5;28;01mfrom\u001b[39;00m\u001b[38;5;250m \u001b[39m\u001b[38;5;21;01m.\u001b[39;00m\u001b[38;5;21;01m_csc\u001b[39;00m\u001b[38;5;250m \u001b[39m\u001b[38;5;28;01mimport\u001b[39;00m \u001b[38;5;241m*\u001b[39m\n",
      "File \u001b[0;32m/opt/anaconda3/envs/bioinfo/lib/python3.10/site-packages/scipy/sparse/_base.py:5\u001b[0m\n\u001b[1;32m      1\u001b[0m \u001b[38;5;124;03m\"\"\"Base class for sparse matrices\"\"\"\u001b[39;00m\n\u001b[1;32m      3\u001b[0m \u001b[38;5;28;01mimport\u001b[39;00m\u001b[38;5;250m \u001b[39m\u001b[38;5;21;01mnumpy\u001b[39;00m\u001b[38;5;250m \u001b[39m\u001b[38;5;28;01mas\u001b[39;00m\u001b[38;5;250m \u001b[39m\u001b[38;5;21;01mnp\u001b[39;00m\n\u001b[0;32m----> 5\u001b[0m \u001b[38;5;28;01mfrom\u001b[39;00m\u001b[38;5;250m \u001b[39m\u001b[38;5;21;01m.\u001b[39;00m\u001b[38;5;21;01m_sputils\u001b[39;00m\u001b[38;5;250m \u001b[39m\u001b[38;5;28;01mimport\u001b[39;00m (asmatrix, check_reshape_kwargs, check_shape,\n\u001b[1;32m      6\u001b[0m                        get_sum_dtype, isdense, isscalarlike,\n\u001b[1;32m      7\u001b[0m                        matrix, validateaxis, getdtype)\n\u001b[1;32m      9\u001b[0m \u001b[38;5;28;01mfrom\u001b[39;00m\u001b[38;5;250m \u001b[39m\u001b[38;5;21;01m.\u001b[39;00m\u001b[38;5;21;01m_matrix\u001b[39;00m\u001b[38;5;250m \u001b[39m\u001b[38;5;28;01mimport\u001b[39;00m spmatrix\n\u001b[1;32m     11\u001b[0m __all__ \u001b[38;5;241m=\u001b[39m [\u001b[38;5;124m'\u001b[39m\u001b[38;5;124misspmatrix\u001b[39m\u001b[38;5;124m'\u001b[39m, \u001b[38;5;124m'\u001b[39m\u001b[38;5;124missparse\u001b[39m\u001b[38;5;124m'\u001b[39m, \u001b[38;5;124m'\u001b[39m\u001b[38;5;124msparray\u001b[39m\u001b[38;5;124m'\u001b[39m,\n\u001b[1;32m     12\u001b[0m            \u001b[38;5;124m'\u001b[39m\u001b[38;5;124mSparseWarning\u001b[39m\u001b[38;5;124m'\u001b[39m, \u001b[38;5;124m'\u001b[39m\u001b[38;5;124mSparseEfficiencyWarning\u001b[39m\u001b[38;5;124m'\u001b[39m]\n",
      "File \u001b[0;32m/opt/anaconda3/envs/bioinfo/lib/python3.10/site-packages/scipy/sparse/_sputils.py:10\u001b[0m\n\u001b[1;32m      8\u001b[0m \u001b[38;5;28;01mfrom\u001b[39;00m\u001b[38;5;250m \u001b[39m\u001b[38;5;21;01mmath\u001b[39;00m\u001b[38;5;250m \u001b[39m\u001b[38;5;28;01mimport\u001b[39;00m prod\n\u001b[1;32m      9\u001b[0m \u001b[38;5;28;01mimport\u001b[39;00m\u001b[38;5;250m \u001b[39m\u001b[38;5;21;01mscipy\u001b[39;00m\u001b[38;5;21;01m.\u001b[39;00m\u001b[38;5;21;01msparse\u001b[39;00m\u001b[38;5;250m \u001b[39m\u001b[38;5;28;01mas\u001b[39;00m\u001b[38;5;250m \u001b[39m\u001b[38;5;21;01msp\u001b[39;00m\n\u001b[0;32m---> 10\u001b[0m \u001b[38;5;28;01mfrom\u001b[39;00m\u001b[38;5;250m \u001b[39m\u001b[38;5;21;01mscipy\u001b[39;00m\u001b[38;5;21;01m.\u001b[39;00m\u001b[38;5;21;01m_lib\u001b[39;00m\u001b[38;5;21;01m.\u001b[39;00m\u001b[38;5;21;01m_util\u001b[39;00m\u001b[38;5;250m \u001b[39m\u001b[38;5;28;01mimport\u001b[39;00m np_long, np_ulong\n\u001b[1;32m     13\u001b[0m __all__ \u001b[38;5;241m=\u001b[39m [\u001b[38;5;124m'\u001b[39m\u001b[38;5;124mupcast\u001b[39m\u001b[38;5;124m'\u001b[39m, \u001b[38;5;124m'\u001b[39m\u001b[38;5;124mgetdtype\u001b[39m\u001b[38;5;124m'\u001b[39m, \u001b[38;5;124m'\u001b[39m\u001b[38;5;124mgetdata\u001b[39m\u001b[38;5;124m'\u001b[39m, \u001b[38;5;124m'\u001b[39m\u001b[38;5;124misscalarlike\u001b[39m\u001b[38;5;124m'\u001b[39m, \u001b[38;5;124m'\u001b[39m\u001b[38;5;124misintlike\u001b[39m\u001b[38;5;124m'\u001b[39m,\n\u001b[1;32m     14\u001b[0m            \u001b[38;5;124m'\u001b[39m\u001b[38;5;124misshape\u001b[39m\u001b[38;5;124m'\u001b[39m, \u001b[38;5;124m'\u001b[39m\u001b[38;5;124missequence\u001b[39m\u001b[38;5;124m'\u001b[39m, \u001b[38;5;124m'\u001b[39m\u001b[38;5;124misdense\u001b[39m\u001b[38;5;124m'\u001b[39m, \u001b[38;5;124m'\u001b[39m\u001b[38;5;124mismatrix\u001b[39m\u001b[38;5;124m'\u001b[39m, \u001b[38;5;124m'\u001b[39m\u001b[38;5;124mget_sum_dtype\u001b[39m\u001b[38;5;124m'\u001b[39m,\n\u001b[1;32m     15\u001b[0m            \u001b[38;5;124m'\u001b[39m\u001b[38;5;124mbroadcast_shapes\u001b[39m\u001b[38;5;124m'\u001b[39m]\n\u001b[1;32m     17\u001b[0m supported_dtypes \u001b[38;5;241m=\u001b[39m [np\u001b[38;5;241m.\u001b[39mbool_, np\u001b[38;5;241m.\u001b[39mbyte, np\u001b[38;5;241m.\u001b[39mubyte, np\u001b[38;5;241m.\u001b[39mshort, np\u001b[38;5;241m.\u001b[39mushort, np\u001b[38;5;241m.\u001b[39mintc,\n\u001b[1;32m     18\u001b[0m                     np\u001b[38;5;241m.\u001b[39muintc, np_long, np_ulong, np\u001b[38;5;241m.\u001b[39mlonglong, np\u001b[38;5;241m.\u001b[39mulonglong,\n\u001b[1;32m     19\u001b[0m                     np\u001b[38;5;241m.\u001b[39mfloat32, np\u001b[38;5;241m.\u001b[39mfloat64, np\u001b[38;5;241m.\u001b[39mlongdouble,\n\u001b[1;32m     20\u001b[0m                     np\u001b[38;5;241m.\u001b[39mcomplex64, np\u001b[38;5;241m.\u001b[39mcomplex128, np\u001b[38;5;241m.\u001b[39mclongdouble]\n",
      "File \u001b[0;32m/opt/anaconda3/envs/bioinfo/lib/python3.10/site-packages/scipy/_lib/_util.py:13\u001b[0m\n\u001b[1;32m     10\u001b[0m \u001b[38;5;28;01mfrom\u001b[39;00m\u001b[38;5;250m \u001b[39m\u001b[38;5;21;01mtyping\u001b[39;00m\u001b[38;5;250m \u001b[39m\u001b[38;5;28;01mimport\u001b[39;00m TypeAlias, TypeVar\n\u001b[1;32m     12\u001b[0m \u001b[38;5;28;01mimport\u001b[39;00m\u001b[38;5;250m \u001b[39m\u001b[38;5;21;01mnumpy\u001b[39;00m\u001b[38;5;250m \u001b[39m\u001b[38;5;28;01mas\u001b[39;00m\u001b[38;5;250m \u001b[39m\u001b[38;5;21;01mnp\u001b[39;00m\n\u001b[0;32m---> 13\u001b[0m \u001b[38;5;28;01mfrom\u001b[39;00m\u001b[38;5;250m \u001b[39m\u001b[38;5;21;01mscipy\u001b[39;00m\u001b[38;5;21;01m.\u001b[39;00m\u001b[38;5;21;01m_lib\u001b[39;00m\u001b[38;5;21;01m.\u001b[39;00m\u001b[38;5;21;01m_array_api\u001b[39;00m\u001b[38;5;250m \u001b[39m\u001b[38;5;28;01mimport\u001b[39;00m array_namespace, is_numpy, xp_size\n\u001b[1;32m     14\u001b[0m \u001b[38;5;28;01mfrom\u001b[39;00m\u001b[38;5;250m \u001b[39m\u001b[38;5;21;01mscipy\u001b[39;00m\u001b[38;5;21;01m.\u001b[39;00m\u001b[38;5;21;01m_lib\u001b[39;00m\u001b[38;5;21;01m.\u001b[39;00m\u001b[38;5;21;01m_docscrape\u001b[39;00m\u001b[38;5;250m \u001b[39m\u001b[38;5;28;01mimport\u001b[39;00m FunctionDoc, Parameter\n\u001b[1;32m     17\u001b[0m AxisError: \u001b[38;5;28mtype\u001b[39m[\u001b[38;5;167;01mException\u001b[39;00m]\n",
      "File \u001b[0;32m/opt/anaconda3/envs/bioinfo/lib/python3.10/site-packages/scipy/_lib/_array_api.py:18\u001b[0m\n\u001b[1;32m     15\u001b[0m \u001b[38;5;28;01mimport\u001b[39;00m\u001b[38;5;250m \u001b[39m\u001b[38;5;21;01mnumpy\u001b[39;00m\u001b[38;5;21;01m.\u001b[39;00m\u001b[38;5;21;01mtyping\u001b[39;00m\u001b[38;5;250m \u001b[39m\u001b[38;5;28;01mas\u001b[39;00m\u001b[38;5;250m \u001b[39m\u001b[38;5;21;01mnpt\u001b[39;00m\n\u001b[1;32m     17\u001b[0m \u001b[38;5;28;01mfrom\u001b[39;00m\u001b[38;5;250m \u001b[39m\u001b[38;5;21;01mscipy\u001b[39;00m\u001b[38;5;21;01m.\u001b[39;00m\u001b[38;5;21;01m_lib\u001b[39;00m\u001b[38;5;250m \u001b[39m\u001b[38;5;28;01mimport\u001b[39;00m array_api_compat\n\u001b[0;32m---> 18\u001b[0m \u001b[38;5;28;01mfrom\u001b[39;00m\u001b[38;5;250m \u001b[39m\u001b[38;5;21;01mscipy\u001b[39;00m\u001b[38;5;21;01m.\u001b[39;00m\u001b[38;5;21;01m_lib\u001b[39;00m\u001b[38;5;21;01m.\u001b[39;00m\u001b[38;5;21;01marray_api_compat\u001b[39;00m\u001b[38;5;250m \u001b[39m\u001b[38;5;28;01mimport\u001b[39;00m (\n\u001b[1;32m     19\u001b[0m     is_array_api_obj,\n\u001b[1;32m     20\u001b[0m     size \u001b[38;5;28;01mas\u001b[39;00m xp_size,\n\u001b[1;32m     21\u001b[0m     numpy \u001b[38;5;28;01mas\u001b[39;00m np_compat,\n\u001b[1;32m     22\u001b[0m     device \u001b[38;5;28;01mas\u001b[39;00m xp_device,\n\u001b[1;32m     23\u001b[0m     is_numpy_namespace \u001b[38;5;28;01mas\u001b[39;00m is_numpy,\n\u001b[1;32m     24\u001b[0m     is_cupy_namespace \u001b[38;5;28;01mas\u001b[39;00m is_cupy,\n\u001b[1;32m     25\u001b[0m     is_torch_namespace \u001b[38;5;28;01mas\u001b[39;00m is_torch,\n\u001b[1;32m     26\u001b[0m     is_jax_namespace \u001b[38;5;28;01mas\u001b[39;00m is_jax,\n\u001b[1;32m     27\u001b[0m     is_array_api_strict_namespace \u001b[38;5;28;01mas\u001b[39;00m is_array_api_strict\n\u001b[1;32m     28\u001b[0m )\n\u001b[1;32m     30\u001b[0m __all__ \u001b[38;5;241m=\u001b[39m [\n\u001b[1;32m     31\u001b[0m     \u001b[38;5;124m'\u001b[39m\u001b[38;5;124m_asarray\u001b[39m\u001b[38;5;124m'\u001b[39m, \u001b[38;5;124m'\u001b[39m\u001b[38;5;124marray_namespace\u001b[39m\u001b[38;5;124m'\u001b[39m, \u001b[38;5;124m'\u001b[39m\u001b[38;5;124massert_almost_equal\u001b[39m\u001b[38;5;124m'\u001b[39m, \u001b[38;5;124m'\u001b[39m\u001b[38;5;124massert_array_almost_equal\u001b[39m\u001b[38;5;124m'\u001b[39m,\n\u001b[1;32m     32\u001b[0m     \u001b[38;5;124m'\u001b[39m\u001b[38;5;124mget_xp_devices\u001b[39m\u001b[38;5;124m'\u001b[39m,\n\u001b[0;32m   (...)\u001b[0m\n\u001b[1;32m     38\u001b[0m     \u001b[38;5;124m'\u001b[39m\u001b[38;5;124mxp_take_along_axis\u001b[39m\u001b[38;5;124m'\u001b[39m, \u001b[38;5;124m'\u001b[39m\u001b[38;5;124mxp_unsupported_param_msg\u001b[39m\u001b[38;5;124m'\u001b[39m, \u001b[38;5;124m'\u001b[39m\u001b[38;5;124mxp_vector_norm\u001b[39m\u001b[38;5;124m'\u001b[39m,\n\u001b[1;32m     39\u001b[0m ]\n\u001b[1;32m     42\u001b[0m \u001b[38;5;66;03m# To enable array API and strict array-like input validation\u001b[39;00m\n",
      "File \u001b[0;32m/opt/anaconda3/envs/bioinfo/lib/python3.10/site-packages/scipy/_lib/array_api_compat/numpy/__init__.py:1\u001b[0m\n\u001b[0;32m----> 1\u001b[0m \u001b[38;5;28;01mfrom\u001b[39;00m\u001b[38;5;250m \u001b[39m\u001b[38;5;21;01mnumpy\u001b[39;00m\u001b[38;5;250m \u001b[39m\u001b[38;5;28;01mimport\u001b[39;00m \u001b[38;5;241m*\u001b[39m \u001b[38;5;66;03m# noqa: F403\u001b[39;00m\n\u001b[1;32m      3\u001b[0m \u001b[38;5;66;03m# from numpy import * doesn't overwrite these builtin names\u001b[39;00m\n\u001b[1;32m      4\u001b[0m \u001b[38;5;28;01mfrom\u001b[39;00m\u001b[38;5;250m \u001b[39m\u001b[38;5;21;01mnumpy\u001b[39;00m\u001b[38;5;250m \u001b[39m\u001b[38;5;28;01mimport\u001b[39;00m \u001b[38;5;28mabs\u001b[39m, \u001b[38;5;28mmax\u001b[39m, \u001b[38;5;28mmin\u001b[39m, \u001b[38;5;28mround\u001b[39m \u001b[38;5;66;03m# noqa: F401\u001b[39;00m\n",
      "File \u001b[0;32m/opt/anaconda3/envs/bioinfo/lib/python3.10/site-packages/numpy/__init__.py:376\u001b[0m, in \u001b[0;36m__getattr__\u001b[0;34m(attr)\u001b[0m\n\u001b[1;32m    373\u001b[0m     \u001b[38;5;28;01mraise\u001b[39;00m \u001b[38;5;167;01mAttributeError\u001b[39;00m(\u001b[38;5;124m\"\u001b[39m\u001b[38;5;124m`numpy.array_api` is not available from \u001b[39m\u001b[38;5;124m\"\u001b[39m\n\u001b[1;32m    374\u001b[0m                          \u001b[38;5;124m\"\u001b[39m\u001b[38;5;124mnumpy 2.0 onwards\u001b[39m\u001b[38;5;124m\"\u001b[39m, name\u001b[38;5;241m=\u001b[39m\u001b[38;5;28;01mNone\u001b[39;00m)\n\u001b[1;32m    375\u001b[0m \u001b[38;5;28;01melif\u001b[39;00m attr \u001b[38;5;241m==\u001b[39m \u001b[38;5;124m\"\u001b[39m\u001b[38;5;124mcore\u001b[39m\u001b[38;5;124m\"\u001b[39m:\n\u001b[0;32m--> 376\u001b[0m     \u001b[38;5;28;01mimport\u001b[39;00m\u001b[38;5;250m \u001b[39m\u001b[38;5;21;01mnumpy\u001b[39;00m\u001b[38;5;21;01m.\u001b[39;00m\u001b[38;5;21;01mcore\u001b[39;00m\u001b[38;5;250m \u001b[39m\u001b[38;5;28;01mas\u001b[39;00m\u001b[38;5;250m \u001b[39m\u001b[38;5;21;01mcore\u001b[39;00m\n\u001b[1;32m    377\u001b[0m     \u001b[38;5;28;01mreturn\u001b[39;00m core\n\u001b[1;32m    378\u001b[0m \u001b[38;5;28;01melif\u001b[39;00m attr \u001b[38;5;241m==\u001b[39m \u001b[38;5;124m\"\u001b[39m\u001b[38;5;124mstrings\u001b[39m\u001b[38;5;124m\"\u001b[39m:\n",
      "File \u001b[0;32m/opt/anaconda3/envs/bioinfo/lib/python3.10/site-packages/numpy/strings/__init__.py:1\u001b[0m\n\u001b[0;32m----> 1\u001b[0m \u001b[38;5;28;01mfrom\u001b[39;00m\u001b[38;5;250m \u001b[39m\u001b[38;5;21;01mnumpy\u001b[39;00m\u001b[38;5;21;01m.\u001b[39;00m\u001b[38;5;21;01m_core\u001b[39;00m\u001b[38;5;21;01m.\u001b[39;00m\u001b[38;5;21;01mstrings\u001b[39;00m\u001b[38;5;250m \u001b[39m\u001b[38;5;28;01mimport\u001b[39;00m __all__, \u001b[38;5;18m__doc__\u001b[39m\n\u001b[1;32m      2\u001b[0m \u001b[38;5;28;01mfrom\u001b[39;00m\u001b[38;5;250m \u001b[39m\u001b[38;5;21;01mnumpy\u001b[39;00m\u001b[38;5;21;01m.\u001b[39;00m\u001b[38;5;21;01m_core\u001b[39;00m\u001b[38;5;21;01m.\u001b[39;00m\u001b[38;5;21;01mstrings\u001b[39;00m\u001b[38;5;250m \u001b[39m\u001b[38;5;28;01mimport\u001b[39;00m \u001b[38;5;241m*\u001b[39m\n",
      "File \u001b[0;32m/opt/anaconda3/envs/bioinfo/lib/python3.10/site-packages/numpy/_core/strings.py:14\u001b[0m\n\u001b[1;32m     12\u001b[0m \u001b[38;5;28;01mfrom\u001b[39;00m\u001b[38;5;250m \u001b[39m\u001b[38;5;21;01mnumpy\u001b[39;00m\u001b[38;5;21;01m.\u001b[39;00m\u001b[38;5;21;01m_core\u001b[39;00m\u001b[38;5;21;01m.\u001b[39;00m\u001b[38;5;21;01mmultiarray\u001b[39;00m\u001b[38;5;250m \u001b[39m\u001b[38;5;28;01mimport\u001b[39;00m _vec_string\n\u001b[1;32m     13\u001b[0m \u001b[38;5;28;01mfrom\u001b[39;00m\u001b[38;5;250m \u001b[39m\u001b[38;5;21;01mnumpy\u001b[39;00m\u001b[38;5;21;01m.\u001b[39;00m\u001b[38;5;21;01m_core\u001b[39;00m\u001b[38;5;21;01m.\u001b[39;00m\u001b[38;5;21;01moverrides\u001b[39;00m\u001b[38;5;250m \u001b[39m\u001b[38;5;28;01mimport\u001b[39;00m set_module\n\u001b[0;32m---> 14\u001b[0m \u001b[38;5;28;01mfrom\u001b[39;00m\u001b[38;5;250m \u001b[39m\u001b[38;5;21;01mnumpy\u001b[39;00m\u001b[38;5;21;01m.\u001b[39;00m\u001b[38;5;21;01m_core\u001b[39;00m\u001b[38;5;21;01m.\u001b[39;00m\u001b[38;5;21;01mumath\u001b[39;00m\u001b[38;5;250m \u001b[39m\u001b[38;5;28;01mimport\u001b[39;00m (\n\u001b[1;32m     15\u001b[0m     isalpha,\n\u001b[1;32m     16\u001b[0m     isdigit,\n\u001b[1;32m     17\u001b[0m     isspace,\n\u001b[1;32m     18\u001b[0m     isalnum,\n\u001b[1;32m     19\u001b[0m     islower,\n\u001b[1;32m     20\u001b[0m     isupper,\n\u001b[1;32m     21\u001b[0m     istitle,\n\u001b[1;32m     22\u001b[0m     isdecimal,\n\u001b[1;32m     23\u001b[0m     isnumeric,\n\u001b[1;32m     24\u001b[0m     str_len,\n\u001b[1;32m     25\u001b[0m     find \u001b[38;5;28;01mas\u001b[39;00m _find_ufunc,\n\u001b[1;32m     26\u001b[0m     rfind \u001b[38;5;28;01mas\u001b[39;00m _rfind_ufunc,\n\u001b[1;32m     27\u001b[0m     index \u001b[38;5;28;01mas\u001b[39;00m _index_ufunc,\n\u001b[1;32m     28\u001b[0m     rindex \u001b[38;5;28;01mas\u001b[39;00m _rindex_ufunc,\n\u001b[1;32m     29\u001b[0m     count \u001b[38;5;28;01mas\u001b[39;00m _count_ufunc,\n\u001b[1;32m     30\u001b[0m     startswith \u001b[38;5;28;01mas\u001b[39;00m _startswith_ufunc,\n\u001b[1;32m     31\u001b[0m     endswith \u001b[38;5;28;01mas\u001b[39;00m _endswith_ufunc,\n\u001b[1;32m     32\u001b[0m     _lstrip_whitespace,\n\u001b[1;32m     33\u001b[0m     _lstrip_chars,\n\u001b[1;32m     34\u001b[0m     _rstrip_whitespace,\n\u001b[1;32m     35\u001b[0m     _rstrip_chars,\n\u001b[1;32m     36\u001b[0m     _strip_whitespace,\n\u001b[1;32m     37\u001b[0m     _strip_chars,\n\u001b[1;32m     38\u001b[0m     _replace,\n\u001b[1;32m     39\u001b[0m     _expandtabs_length,\n\u001b[1;32m     40\u001b[0m     _expandtabs,\n\u001b[1;32m     41\u001b[0m     _center,\n\u001b[1;32m     42\u001b[0m     _ljust,\n\u001b[1;32m     43\u001b[0m     _rjust,\n\u001b[1;32m     44\u001b[0m     _zfill,\n\u001b[1;32m     45\u001b[0m     _partition,\n\u001b[1;32m     46\u001b[0m     _partition_index,\n\u001b[1;32m     47\u001b[0m     _rpartition,\n\u001b[1;32m     48\u001b[0m     _rpartition_index,\n\u001b[1;32m     49\u001b[0m )\n\u001b[1;32m     52\u001b[0m \u001b[38;5;28;01mdef\u001b[39;00m\u001b[38;5;250m \u001b[39m\u001b[38;5;21m_override___module__\u001b[39m():\n\u001b[1;32m     53\u001b[0m     \u001b[38;5;28;01mfor\u001b[39;00m ufunc \u001b[38;5;129;01min\u001b[39;00m [\n\u001b[1;32m     54\u001b[0m         isalnum, isalpha, isdecimal, isdigit, islower, isnumeric, isspace,\n\u001b[1;32m     55\u001b[0m         istitle, isupper, str_len,\n\u001b[1;32m     56\u001b[0m     ]:\n",
      "\u001b[0;31mImportError\u001b[0m: cannot import name '_center' from 'numpy._core.umath' (/opt/anaconda3/envs/bioinfo/lib/python3.10/site-packages/numpy/_core/umath.py)"
     ]
    }
   ],
   "source": [
    "mannwhitney('pIC50')"
   ]
  },
  {
   "cell_type": "markdown",
   "metadata": {
    "colab_type": "text",
    "id": "o2UlCwPmyTBq"
   },
   "source": [
    "#### **MW**"
   ]
  },
  {
   "cell_type": "code",
   "execution_count": null,
   "metadata": {
    "colab": {
     "base_uri": "https://localhost:8080/",
     "height": 370
    },
    "colab_type": "code",
    "id": "ZNlEEsDEx3m6",
    "outputId": "819f291c-d893-4ff6-f4ca-28b46351e999"
   },
   "outputs": [],
   "source": [
    "plt.figure(figsize=(5.5, 5.5))\n",
    "\n",
    "sns.boxplot(x = 'class', y = 'MW', data = df_2class)\n",
    "\n",
    "plt.xlabel('Bioactivity class', fontsize=14, fontweight='bold')\n",
    "plt.ylabel('MW', fontsize=14, fontweight='bold')\n",
    "\n",
    "plt.savefig('plot_MW.pdf')"
   ]
  },
  {
   "cell_type": "code",
   "execution_count": null,
   "metadata": {
    "colab": {
     "base_uri": "https://localhost:8080/",
     "height": 80
    },
    "colab_type": "code",
    "id": "wRl2FvgHYqaG",
    "outputId": "01f76db8-fdaf-40af-9161-888f5065b07b"
   },
   "outputs": [],
   "source": [
    "mannwhitney('MW')"
   ]
  },
  {
   "cell_type": "markdown",
   "metadata": {
    "colab_type": "text",
    "id": "z5hyBhGqyc6J"
   },
   "source": [
    "#### **LogP**"
   ]
  },
  {
   "cell_type": "code",
   "execution_count": null,
   "metadata": {
    "colab": {
     "base_uri": "https://localhost:8080/",
     "height": 367
    },
    "colab_type": "code",
    "id": "liEtkpI4yX9t",
    "outputId": "63ed7b14-b112-44d5-8f0d-8fe017ec0d43"
   },
   "outputs": [],
   "source": [
    "plt.figure(figsize=(5.5, 5.5))\n",
    "\n",
    "sns.boxplot(x = 'class', y = 'LogP', data = df_2class)\n",
    "\n",
    "plt.xlabel('Bioactivity class', fontsize=14, fontweight='bold')\n",
    "plt.ylabel('LogP', fontsize=14, fontweight='bold')\n",
    "\n",
    "plt.savefig('plot_LogP.pdf')"
   ]
  },
  {
   "cell_type": "markdown",
   "metadata": {
    "colab_type": "text",
    "id": "2KgV5v_oFLXh"
   },
   "source": [
    "**Statistical analysis | Mann-Whitney U Test**"
   ]
  },
  {
   "cell_type": "code",
   "execution_count": null,
   "metadata": {
    "colab": {
     "base_uri": "https://localhost:8080/",
     "height": 80
    },
    "colab_type": "code",
    "id": "B61UsGMIFLuE",
    "outputId": "3fd097e7-7a4a-4c6e-bc0c-af010caac7b2"
   },
   "outputs": [],
   "source": [
    "mannwhitney('LogP')"
   ]
  },
  {
   "cell_type": "markdown",
   "metadata": {
    "colab_type": "text",
    "id": "4db7LZLRym2k"
   },
   "source": [
    "#### **NumHDonors**"
   ]
  },
  {
   "cell_type": "code",
   "execution_count": null,
   "metadata": {
    "colab": {
     "base_uri": "https://localhost:8080/",
     "height": 367
    },
    "colab_type": "code",
    "id": "iru1JPM1yg5A",
    "outputId": "838b8622-b34a-4f93-bec1-9df19fc9f571"
   },
   "outputs": [],
   "source": [
    "plt.figure(figsize=(5.5, 5.5))\n",
    "\n",
    "sns.boxplot(x = 'class', y = 'NumHDonors', data = df_2class)\n",
    "\n",
    "plt.xlabel('Bioactivity class', fontsize=14, fontweight='bold')\n",
    "plt.ylabel('NumHDonors', fontsize=14, fontweight='bold')\n",
    "\n",
    "plt.savefig('plot_NumHDonors.pdf')"
   ]
  },
  {
   "cell_type": "markdown",
   "metadata": {
    "colab_type": "text",
    "id": "vM5vZWanFe3c"
   },
   "source": [
    "**Statistical analysis | Mann-Whitney U Test**"
   ]
  },
  {
   "cell_type": "code",
   "execution_count": null,
   "metadata": {
    "colab": {
     "base_uri": "https://localhost:8080/",
     "height": 80
    },
    "colab_type": "code",
    "id": "mS-rOqq7Fd1E",
    "outputId": "d6e88523-ae95-4298-8550-f840fd8b5a36"
   },
   "outputs": [],
   "source": [
    "mannwhitney('NumHDonors')"
   ]
  },
  {
   "cell_type": "markdown",
   "metadata": {
    "colab_type": "text",
    "id": "yOYQ3QiSyu7-"
   },
   "source": [
    "#### **NumHAcceptors**"
   ]
  },
  {
   "cell_type": "code",
   "execution_count": null,
   "metadata": {
    "colab": {
     "base_uri": "https://localhost:8080/",
     "height": 367
    },
    "colab_type": "code",
    "id": "yCw6tgNCyxHf",
    "outputId": "3de01d96-1e31-4f95-8084-907f15901106"
   },
   "outputs": [],
   "source": [
    "plt.figure(figsize=(5.5, 5.5))\n",
    "\n",
    "sns.boxplot(x = 'class', y = 'NumHAcceptors', data = df_2class)\n",
    "\n",
    "plt.xlabel('Bioactivity class', fontsize=14, fontweight='bold')\n",
    "plt.ylabel('NumHAcceptors', fontsize=14, fontweight='bold')\n",
    "\n",
    "plt.savefig('plot_NumHAcceptors.pdf')"
   ]
  },
  {
   "cell_type": "code",
   "execution_count": null,
   "metadata": {
    "colab": {
     "base_uri": "https://localhost:8080/",
     "height": 80
    },
    "colab_type": "code",
    "id": "NEQoDZctFtGG",
    "outputId": "417d0d17-81f6-438f-dae4-70083b319b85"
   },
   "outputs": [],
   "source": [
    "mannwhitney('NumHAcceptors')"
   ]
  },
  {
   "cell_type": "markdown",
   "metadata": {
    "colab_type": "text",
    "id": "p4QjdHVjKYum"
   },
   "source": [
    "#### **Interpretation of Statistical Results**"
   ]
  },
  {
   "cell_type": "markdown",
   "metadata": {
    "colab_type": "text",
    "id": "mSoOBIqfLbDs"
   },
   "source": [
    "##### **Box Plots**\n",
    "\n",
    "###### **pIC50 values**\n",
    "\n",
    "Taking a look at pIC50 values, the **actives** and **inactives** displayed ***statistically significant difference***, which is to be expected since threshold values (``IC50 < 1,000 nM = Actives while IC50 > 10,000 nM = Inactives``, corresponding to ``pIC50 > 6 = Actives and pIC50 < 5 = Inactives``) were used to define actives and inactives.\n",
    "\n",
    "###### **Lipinski's descriptors**\n",
    "\n",
    "All of the 4 Lipinski's descriptors exhibited ***statistically significant difference*** between the **actives** and **inactives**."
   ]
  },
  {
   "cell_type": "markdown",
   "metadata": {
    "colab_type": "text",
    "id": "U-rK8l0wWnKK"
   },
   "source": [
    "## **Zip files**"
   ]
  },
  {
   "cell_type": "code",
   "execution_count": null,
   "metadata": {
    "colab": {
     "base_uri": "https://localhost:8080/",
     "height": 272
    },
    "colab_type": "code",
    "id": "GW1ZSsfJWqbM",
    "outputId": "cee2f037-c743-4059-9822-c87eba3f0c51"
   },
   "outputs": [],
   "source": [
    "! zip -r results.zip . -i *.csv *.pdf"
   ]
  }
 ],
 "metadata": {
  "colab": {
   "collapsed_sections": [],
   "name": "CDD-ML-Part-2-Exploratory-Data-Analysis-Acetylcholinesterase.ipynb",
   "provenance": []
  },
  "kernelspec": {
   "display_name": "bioinfo",
   "language": "python",
   "name": "bioinfo"
  },
  "language_info": {
   "codemirror_mode": {
    "name": "ipython",
    "version": 3
   },
   "file_extension": ".py",
   "mimetype": "text/x-python",
   "name": "python",
   "nbconvert_exporter": "python",
   "pygments_lexer": "ipython3",
   "version": "3.10.18"
  }
 },
 "nbformat": 4,
 "nbformat_minor": 4
}
